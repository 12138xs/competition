{
 "cells": [
  {
   "cell_type": "markdown",
   "id": "6f8197d5-e5f7-470d-ac40-8aae139905d0",
   "metadata": {},
   "source": [
    "# 模型微调\n",
    "## 赛题介绍\n",
    "    本赛题要求基于开源中英文混合数学运算数据集，跑通baseline，并对MindFormers中Llama3-8b模型进行微调（LoRA或其他微调算法）微调后的模型在原有能力不丢失的前提下（需保持在原能力的90%及以上），回答数学运算准确率相对baseline有所提升，按照低参比例及准确率进行综合排名。\n",
    "    模型原有能力以其在SQUAD数据集上的阅读理解能力为准，评价标准为F1 Score和Em Score，要求微调后两项评价指标需要在给定阈值以上方可算作有效作品。具体如何进行原有能力评估，以及F1 Score和Em Score的参考阈值，请参考下方1.5.8微调后模型原有能力评估。\n",
    "    数学运算准确率评价标准：模型基于测试数据集（不公开，与训练数据集格式相同，为数道中英文数学运算题）进行推理，生成数学运算结果。如计算结果（数值）与正确答案相同，则视为本题正确，最终统计在测试数据集上回答正确的题目数量占比。\n",
    "\n",
    "    运算准确率 = 正确运算题目数 / 测试集总题目数\n",
    "\n",
    "    注：baseline的数学运算准确率为20%，请以此为参考进行微调。\n",
    "    低参比例：低参比例为微调参数量在总参数量的占比，选手在提交作品时需提供低参比例的计算结果，低参比例运算公式如下。\n",
    "    低参比例 = 参与微调的参数量 / 模型总参数量\n",
    "    低参比例和运算准确率综合排名：低参比例越低越好，数学运算准确率越高越好，最终按照如下加权进行运算。\n",
    "\n",
    "    （100%-低参比例）* 0.3 + 运算准确率 * 0.7\n"
   ]
  },
  {
   "cell_type": "markdown",
   "id": "96f43626-7df9-4026-8769-bf33569bb12a",
   "metadata": {},
   "source": [
    "## 微调算法介绍\n",
    "\n",
    "    模型采用LoRA算法进行微调\n",
    "    \n",
    "    LoRA算法介绍：在预训练好的模型结构旁边加入了A和B两个结构，这两个结构的参数分别初始化为高斯分布和0，那么在训练刚开始时附加的参数就是0。\n",
    "\n",
    "\n",
    "![示例图片](img/lora.png)\n",
    "    \n",
    "    在训练时只更新A、B的参数，预训练好的模型参数是固定不变的，使得即使在小规模的数据集和计算资源下，‌也能实现模型性能的提升。‌"
   ]
  },
  {
   "cell_type": "markdown",
   "id": "82813390-7718-4e71-8eb9-0e4dad51335b",
   "metadata": {},
   "source": [
    "### 训练超参配置介绍说明\n",
    "\n",
    "- lora配置\n",
    "    \n",
    "---\n",
    "```yaml\n",
    "    pet_config:\n",
    "      pet_type: lora\n",
    "      # configuration of lora\n",
    "      lora_rank: 12\n",
    "      lora_alpha: 24\n",
    "      lora_dropout: 0.05\n",
    "      target_modules: '.*wq|.*wv'\n",
    "```\n",
    "---\n",
    "\n",
    "- 其他配置修改\n",
    "\n",
    "```yaml\n",
    "runner_config:\n",
    "  epochs: 1\n",
    "  batch_size: 64\n",
    "  sink_mode: True\n",
    "  sink_size: 2\n",
    "\n",
    "```\n",
    "### 数据集\n",
    "\n",
    "    从原始数据集中，选取了前150k作为训练数据集,然后在每次提问时。添加了提示词prompt：\n",
    "    \n",
    "---\n",
    "    ‘你正在进行LoRA微调以加强你的数学处理能力，接下来，你会收到一个数学问题，你必须精准的给出这个数学问题的答案。\\n’\n",
    "    \n",
    "---\n",
    "    \n",
    "### 训练日志\n",
    "\n",
    "    训练损失变化，位于./mindformers/research/output/msrun_log\n",
    "    \n",
    "    具体训练过程，请参考：run.ipynb"
   ]
  },
  {
   "cell_type": "markdown",
   "id": "6088dbbf-8149-4961-8631-3566ac12a9e2",
   "metadata": {},
   "source": [
    "### 训练损失变化\n",
    "\n",
    "![示例图片](img/step_loss_plot.png)\n"
   ]
  },
  {
   "cell_type": "markdown",
   "id": "aa90e8c7-78b4-4b27-84c8-1cd5081c4b57",
   "metadata": {},
   "source": [
    "## 运行环境\n",
    "\n",
    "    以下全部脚本，都可以在控制台内执行\n",
    "\n",
    "### 镜像\n",
    "\n",
    "    采用官方提供的镜像\n",
    "    镜像的SWR地址：swr.cn-southwest-2.myhuaweicloud.com/atelier/mindspore_2_3_ascend:mindspore_2.3.0-cann_8.0.rc1-py_3.9-euler_2.10.7-aarch64-snt9b-20240525100222-259922e\n",
    "    \n",
    "### 硬件\n",
    "    Ascend 单卡NPU（显存32G）\n",
    "    硬盘：>200G\n",
    "    \n",
    "### 环境依赖\n",
    "\n",
    "- mindformers\n",
    "\n",
    "    下载即安装mindformers"
   ]
  },
  {
   "cell_type": "code",
   "execution_count": null,
   "id": "d4d072df-e3d4-41ba-9d4a-174b5a310cc4",
   "metadata": {},
   "outputs": [],
   "source": [
    "!wget https://2024-ascend-innovation-contest-mindspore.obs.cn-southwest-2.myhuaweicloud.com/topic2-finetune/mindformers.zip\n",
    "!unzip mindformers.zip"
   ]
  },
  {
   "cell_type": "code",
   "execution_count": null,
   "id": "ac8c95c7-efa7-4756-b897-b37622ad6195",
   "metadata": {},
   "outputs": [],
   "source": [
    "%cd /home/ma-user/work/mindformers/\n",
    "!bash build.sh"
   ]
  },
  {
   "cell_type": "code",
   "execution_count": 3,
   "id": "d5110812-03d1-4bec-aa77-5d45c7f647ac",
   "metadata": {},
   "outputs": [],
   "source": [
    "!export PYTHONPATH=\"${PYTHONPATH}:/home/ma-user/work/mindformers/\""
   ]
  },
  {
   "cell_type": "markdown",
   "id": "fb8ad352-07b7-4910-95a8-486a2eb3a6bd",
   "metadata": {},
   "source": [
    "- mindspore\n",
    "\n",
    "    安装mindspore 2.3.0RC2"
   ]
  },
  {
   "cell_type": "code",
   "execution_count": 4,
   "id": "3d127dae-ae8c-4eef-9274-8cca3b1de488",
   "metadata": {},
   "outputs": [
    {
     "name": "stdout",
     "output_type": "stream",
     "text": [
      "Looking in indexes: http://pip.modelarts.private.com:8888/repository/pypi/simple\n",
      "Collecting mindspore==2.3.0RC2\n",
      "  Downloading http://pip.modelarts.private.com:8888/repository/pypi/packages/mindspore/2.3.0rc2/mindspore-2.3.0rc2-cp39-none-any.whl (244.0 MB)\n",
      "\u001b[K     |████████████████████████████████| 244.0 MB 75.0 MB/s eta 0:00:01\n",
      "\u001b[?25hRequirement already satisfied: pillow>=6.2.0 in /home/ma-user/anaconda3/envs/MindSpore/lib/python3.9/site-packages (from mindspore==2.3.0RC2) (10.0.1)\n",
      "Requirement already satisfied: scipy>=1.5.4 in /home/ma-user/anaconda3/envs/MindSpore/lib/python3.9/site-packages (from mindspore==2.3.0RC2) (1.10.1)\n",
      "Requirement already satisfied: numpy>=1.17.0 in /home/ma-user/anaconda3/envs/MindSpore/lib/python3.9/site-packages (from mindspore==2.3.0RC2) (1.22.0)\n",
      "Requirement already satisfied: psutil>=5.6.1 in /home/ma-user/anaconda3/envs/MindSpore/lib/python3.9/site-packages (from mindspore==2.3.0RC2) (5.9.5)\n",
      "Requirement already satisfied: packaging>=20.0 in /home/ma-user/anaconda3/envs/MindSpore/lib/python3.9/site-packages (from mindspore==2.3.0RC2) (24.0)\n",
      "Requirement already satisfied: protobuf>=3.13.0 in /home/ma-user/anaconda3/envs/MindSpore/lib/python3.9/site-packages (from mindspore==2.3.0RC2) (3.20.2)\n",
      "Requirement already satisfied: asttokens>=2.0.4 in /home/ma-user/anaconda3/envs/MindSpore/lib/python3.9/site-packages (from mindspore==2.3.0RC2) (2.4.1)\n",
      "Requirement already satisfied: astunparse>=1.6.3 in /home/ma-user/anaconda3/envs/MindSpore/lib/python3.9/site-packages (from mindspore==2.3.0RC2) (1.6.3)\n",
      "Requirement already satisfied: six>=1.12.0 in /home/ma-user/anaconda3/envs/MindSpore/lib/python3.9/site-packages (from asttokens>=2.0.4->mindspore==2.3.0RC2) (1.16.0)\n",
      "Requirement already satisfied: wheel<1.0,>=0.23.0 in /home/ma-user/anaconda3/envs/MindSpore/lib/python3.9/site-packages (from astunparse>=1.6.3->mindspore==2.3.0RC2) (0.38.4)\n",
      "Installing collected packages: mindspore\n",
      "  Attempting uninstall: mindspore\n",
      "    Found existing installation: mindspore 2.3.0rc4\n",
      "    Uninstalling mindspore-2.3.0rc4:\n",
      "      Successfully uninstalled mindspore-2.3.0rc4\n",
      "Successfully installed mindspore-2.3.0rc2\n",
      "\u001b[33mWARNING: You are using pip version 21.0.1; however, version 24.1.2 is available.\n",
      "You should consider upgrading via the '/home/ma-user/anaconda3/envs/MindSpore/bin/python3.9 -m pip install --upgrade pip' command.\u001b[0m\n"
     ]
    }
   ],
   "source": [
    "!pip install mindspore==2.3.0RC2"
   ]
  },
  {
   "cell_type": "markdown",
   "id": "dc6b9cd6-0c9f-49fe-8a6e-a4c441ce5b59",
   "metadata": {},
   "source": [
    "- tiktoken\n",
    "\n",
    "    安装tiktoken"
   ]
  },
  {
   "cell_type": "code",
   "execution_count": 5,
   "id": "a3ec5d80-8688-48bb-921e-ecb44fbbb125",
   "metadata": {},
   "outputs": [
    {
     "name": "stdout",
     "output_type": "stream",
     "text": [
      "Looking in indexes: http://pip.modelarts.private.com:8888/repository/pypi/simple\n",
      "Collecting tiktoken\n",
      "  Downloading http://pip.modelarts.private.com:8888/repository/pypi/packages/tiktoken/0.7.0/tiktoken-0.7.0-cp39-cp39-manylinux_2_17_aarch64.manylinux2014_aarch64.whl (1.0 MB)\n",
      "\u001b[K     |████████████████████████████████| 1.0 MB 56.7 MB/s eta 0:00:01\n",
      "\u001b[?25hRequirement already satisfied: requests>=2.26.0 in /home/ma-user/anaconda3/envs/MindSpore/lib/python3.9/site-packages (from tiktoken) (2.27.1)\n",
      "Requirement already satisfied: regex>=2022.1.18 in /home/ma-user/anaconda3/envs/MindSpore/lib/python3.9/site-packages (from tiktoken) (2024.5.15)\n",
      "Requirement already satisfied: idna<4,>=2.5 in /home/ma-user/anaconda3/envs/MindSpore/lib/python3.9/site-packages (from requests>=2.26.0->tiktoken) (2.10)\n",
      "Requirement already satisfied: certifi>=2017.4.17 in /home/ma-user/anaconda3/envs/MindSpore/lib/python3.9/site-packages (from requests>=2.26.0->tiktoken) (2024.2.2)\n",
      "Requirement already satisfied: charset-normalizer~=2.0.0 in /home/ma-user/anaconda3/envs/MindSpore/lib/python3.9/site-packages (from requests>=2.26.0->tiktoken) (2.0.12)\n",
      "Requirement already satisfied: urllib3<1.27,>=1.21.1 in /home/ma-user/anaconda3/envs/MindSpore/lib/python3.9/site-packages (from requests>=2.26.0->tiktoken) (1.26.7)\n",
      "Installing collected packages: tiktoken\n",
      "Successfully installed tiktoken-0.7.0\n",
      "\u001b[33mWARNING: You are using pip version 21.0.1; however, version 24.1.2 is available.\n",
      "You should consider upgrading via the '/home/ma-user/anaconda3/envs/MindSpore/bin/python3.9 -m pip install --upgrade pip' command.\u001b[0m\n"
     ]
    }
   ],
   "source": [
    "!pip install tiktoken"
   ]
  },
  {
   "cell_type": "markdown",
   "id": "2c12639f-54db-4bb6-a6a0-34086de39062",
   "metadata": {},
   "source": [
    "### 微调后的模型权重下载"
   ]
  },
  {
   "cell_type": "code",
   "execution_count": null,
   "id": "ed1b2765-d19d-4235-baa6-61d81a85e6e6",
   "metadata": {},
   "outputs": [
    {
     "name": "stdout",
     "output_type": "stream",
     "text": [
      "/home/ma-user/work\n",
      "--2024-07-27 15:05:34--  https://llama3.obs.cn-southwest-2.myhuaweicloud.com/new_lora_checkpoint_0.ckpt\n",
      "Resolving llama3.obs.cn-southwest-2.myhuaweicloud.com (llama3.obs.cn-southwest-2.myhuaweicloud.com)... 100.125.81.67, 100.125.81.35, 100.125.81.3\n",
      "Connecting to llama3.obs.cn-southwest-2.myhuaweicloud.com (llama3.obs.cn-southwest-2.myhuaweicloud.com)|100.125.81.67|:443... connected.\n",
      "HTTP request sent, awaiting response... 200 OK\n",
      "Length: 16071307975 (15G) [binary/octet-stream]\n",
      "Saving to: ‘./model/rank_0/new_lora_checkpoint_0.ckpt’\n",
      "\n",
      "new_lora_checkpoint  63%[===========>        ]   9.52G  47.0MB/s    eta 2m 5s  "
     ]
    }
   ],
   "source": [
    "%cd /home/ma-user/work\n",
    "!mkdir model\n",
    "!mkdir model/rank_0/\n",
    "!wget https://llama3.obs.cn-southwest-2.myhuaweicloud.com/new_lora_checkpoint_0.ckpt -P ./model/rank_0/"
   ]
  },
  {
   "cell_type": "code",
   "execution_count": null,
   "id": "61bbb6fd-aeeb-495f-90ff-9dbbaded055d",
   "metadata": {},
   "outputs": [],
   "source": [
    "!wget https://2024-ascend-innovation-contest-mindspore.obs.cn-southwest-2.myhuaweicloud.com/topic2-finetune/tokenizer.model -P ./model "
   ]
  },
  {
   "cell_type": "markdown",
   "id": "4d43e2b8-4cac-4e32-ae93-917b09ee8762",
   "metadata": {},
   "source": [
    "## 原有性能评测"
   ]
  },
  {
   "cell_type": "markdown",
   "id": "7edfa9f1-3085-44bd-accb-1fc649ec0f9e",
   "metadata": {},
   "source": [
    "    运行过程中完整日志详见 log/ev-v1.1_eval.log"
   ]
  },
  {
   "cell_type": "code",
   "execution_count": null,
   "id": "bb92fa18-5d57-4eae-8f09-44ba19e25f94",
   "metadata": {},
   "outputs": [],
   "source": [
    "%cd /home/ma-user/work/mindformers\n",
    "!python run_mindformer.py \\\n",
    "--config /home/ma-user/work/run_llama3_8b_8k_800T_A2_64G_lora_256_base_eval.yaml \\\n",
    "--eval_dataset_dir /home/ma-user/work/data/squad8192.mindrecord \\\n",
    "--run_mode eval \\\n",
    "--load_checkpoint /home/ma-user/work/model/rank_0/new_lora_checkpoint_0.ckpt \\\n",
    "--epochs 1 \\\n",
    "--batch_size 1 \\\n",
    "--use_parallel False \\\n",
    "--device_id 0 \\\n",
    "> /home/ma-user/work/log/dev-v1.1_eval.log 2>&1 &"
   ]
  },
  {
   "cell_type": "markdown",
   "id": "f29da3ee-a7e1-4df9-9b86-5708424bbc04",
   "metadata": {},
   "source": [
    "### 原有性能得分:"
   ]
  },
  {
   "cell_type": "code",
   "execution_count": 1,
   "id": "668bd2ee-fffe-4712-b291-e2ddf474a108",
   "metadata": {},
   "outputs": [
    {
     "name": "stdout",
     "output_type": "stream",
     "text": [
      "/home/ma-user/work\n"
     ]
    },
    {
     "name": "stderr",
     "output_type": "stream",
     "text": [
      "/home/ma-user/anaconda3/envs/MindSpore/lib/python3.9/site-packages/IPython/core/magics/osm.py:417: UserWarning: using dhist requires you to install the `pickleshare` library.\n",
      "  self.shell.db['dhist'] = compress_dhist(dhist)[-100:]\n"
     ]
    },
    {
     "name": "stdout",
     "output_type": "stream",
     "text": [
      "F1 score: 65.42232999478914, Em score: 49.685534591194966, total_count: 2067\n",
      "None\n"
     ]
    }
   ],
   "source": [
    "%cd /home/ma-user/work\n",
    "import step_loss_plot as slp\n",
    "\n",
    "slp.find_scores_from_file('./log/dev-v1.1_eval.log')\n"
   ]
  },
  {
   "cell_type": "markdown",
   "id": "6bb02b3b-41db-4881-aec2-f06682c7387c",
   "metadata": {},
   "source": [
    "## 微调参数比例计算"
   ]
  },
  {
   "cell_type": "code",
   "execution_count": 1,
   "id": "f58f3f89-0555-419e-8f3d-fdf482774bb3",
   "metadata": {},
   "outputs": [
    {
     "name": "stderr",
     "output_type": "stream",
     "text": [
      "/home/ma-user/anaconda3/envs/MindSpore/lib/python3.9/site-packages/IPython/core/magics/osm.py:417: UserWarning: using dhist requires you to install the `pickleshare` library.\n",
      "  self.shell.db['dhist'] = compress_dhist(dhist)[-100:]\n"
     ]
    },
    {
     "name": "stdout",
     "output_type": "stream",
     "text": [
      "/home/ma-user/work/mindformers/research/output/msrun_log\n",
      "2024-07-27 14:01:02,516 - mindformers[mindformers/trainer/base_trainer.py:543] - INFO - Network Parameters: 5111808.\n"
     ]
    }
   ],
   "source": [
    "%cd /home/ma-user/work/mindformers/research/output/msrun_log\n",
    "!cat worker_0.log |grep \"Network Parameters\""
   ]
  },
  {
   "cell_type": "code",
   "execution_count": 2,
   "id": "99a74c4c-c660-43c8-86cc-dcf2b6969123",
   "metadata": {},
   "outputs": [
    {
     "name": "stdout",
     "output_type": "stream",
     "text": [
      "低参比例:0.0636588792029888%\n"
     ]
    }
   ],
   "source": [
    "ratio = 5111808/8030000000\n",
    "print(f\"低参比例:{ratio*100}%\")"
   ]
  },
  {
   "cell_type": "markdown",
   "id": "be7f80dd-57d5-4b27-8a89-aff95847269a",
   "metadata": {},
   "source": [
    "## 执行推理\n",
    "\n",
    "    执行推理前，需要保证前面运行环境和微调后的权重已经执行。\n",
    "    需要将input_dir替换成实际的推理文件路径。\n",
    "    \n",
    "    生成的.npy文件位于/home/ma-user/work下，以用于后续评估\n",
    "    \n",
    "    运行过程中日志位于/home/ma-user/work/log/data_test_2000_1"
   ]
  },
  {
   "cell_type": "code",
   "execution_count": null,
   "id": "4135cfbe-e080-43bd-b292-8ee68f9d1a1a",
   "metadata": {},
   "outputs": [],
   "source": [
    "%cd /home/ma-user/work\n",
    "!python run_llama3_test.py \\\n",
    "--config /home/ma-user/work/run_llama3_8b_8k_800T_A2_64G_lora_256_eval.yaml \\\n",
    "--run_mode predict \\\n",
    "--use_parallel False \\\n",
    "--load_checkpoint /home/ma-user/work/model/rank_0/new_lora_checkpoint_0.ckpt \\\n",
    "--vocab_file /home/ma-user/work/model/tokenizer.model \\\n",
    "--auto_trans_ckpt False \\\n",
    "--input_dir \"/home/ma-user/work/data/test_128.json\" \\\n",
    "> /home/ma-user/work/log/data_test_2000_1.log 2>&1 &"
   ]
  },
  {
   "cell_type": "markdown",
   "id": "9d36c637-d65d-42be-82b3-97c2b62d742b",
   "metadata": {},
   "source": [
    "## 准确性评估\n",
    "\n",
    "    评估方法说明：\n",
    "    考虑到模型生成的结果并非简单的计算结果，还包含运算过程或则关于运算的解答，因此在这里，简单的使用了data/test_128.json这个包含128条随机选择数据的内容进行简单评估。\n",
    "    此数据中答案只包含数字，例子：\n",
    "---\n",
    "- {\"problem\": \"计算 -7970.16 + 1044.40 等于多少？\", \"solution\": \"-6925.76\"}\n",
    "- {\"problem\": \"计算 -1269.54 * 6163.96 等于多少？\", \"solution\": \"-7825393.7784\"}\n",
    "- {\"problem\": \"计算 -5413.82 + 8826.70 等于多少？\", \"solution\": \"3412.88\"}\n",
    "- {\"problem\": \"计算 2415.96 / -2695.89 等于多少？\", \"solution\": \"-0.8961641\"}\n",
    "---\n",
    "\n",
    "    评估准确性，只考虑了微调后的模型推理结果内，是否包含准确答案的数字。\n",
    "    如果包含则视为回答正确。\n",
    "    \n",
    "    \n",
    "    此评估结果只作为参考。\n",
    "    \n",
    "### baseline数学准确性参考\n",
    "\n",
    "    "
   ]
  },
  {
   "cell_type": "code",
   "execution_count": 3,
   "id": "de5cdc5a-d1fc-4a55-97e6-481bc705d1f1",
   "metadata": {},
   "outputs": [
    {
     "name": "stdout",
     "output_type": "stream",
     "text": [
      "/home/ma-user/work\n",
      "模型准确性:21.09375%\n"
     ]
    }
   ],
   "source": [
    "%cd /home/ma-user/work\n",
    "!python accurate_evaluation.py --test_path=./data/test_128.json --answer_path=result_npy_base.npy"
   ]
  },
  {
   "cell_type": "markdown",
   "id": "5ef8dbf7-bb70-4a20-92d3-a0fcb3cfaa0f",
   "metadata": {},
   "source": [
    "### 微调后模型数学准确性"
   ]
  },
  {
   "cell_type": "code",
   "execution_count": 5,
   "id": "72762b2c-4318-4331-8ca3-170f7ba2ca9d",
   "metadata": {},
   "outputs": [
    {
     "name": "stdout",
     "output_type": "stream",
     "text": [
      "/home/ma-user/work\n",
      "Traceback (most recent call last):\n",
      "  File \"/home/ma-user/work/accurate_evaluation.py\", line 47, in <module>\n",
      "    calculate_accuracy(args.test_path,args.answer_path)\n",
      "  File \"/home/ma-user/work/accurate_evaluation.py\", line 29, in calculate_accuracy\n",
      "    resluts  = read_npy_to_list(answer_path)\n",
      "  File \"/home/ma-user/work/accurate_evaluation.py\", line 20, in read_npy_to_list\n",
      "    array = np.load(input_file_path,allow_pickle=True)\n",
      "  File \"/home/ma-user/anaconda3/envs/MindSpore/lib/python3.9/site-packages/numpy/lib/npyio.py\", line 407, in load\n",
      "    fid = stack.enter_context(open(os_fspath(file), \"rb\"))\n",
      "FileNotFoundError: [Errno 2] No such file or directory: 'result_npy.npy'\n"
     ]
    }
   ],
   "source": [
    "%cd /home/ma-user/work\n",
    "!python accurate_evaluation.py --test_path=./data/test_128.json --answer_path=result_npy.npy"
   ]
  }
 ],
 "metadata": {
  "kernelspec": {
   "display_name": "mindspore",
   "language": "python",
   "name": "mindspore"
  },
  "language_info": {
   "codemirror_mode": {
    "name": "ipython",
    "version": 3
   },
   "file_extension": ".py",
   "mimetype": "text/x-python",
   "name": "python",
   "nbconvert_exporter": "python",
   "pygments_lexer": "ipython3",
   "version": "3.9.7"
  }
 },
 "nbformat": 4,
 "nbformat_minor": 5
}
