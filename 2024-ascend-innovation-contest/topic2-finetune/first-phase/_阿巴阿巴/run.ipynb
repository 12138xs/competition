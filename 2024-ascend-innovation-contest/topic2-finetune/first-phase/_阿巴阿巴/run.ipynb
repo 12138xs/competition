{
 "cells": [
  {
   "cell_type": "markdown",
   "id": "049e0a23-b710-4b51-a3b5-e01af33ba7c8",
   "metadata": {},
   "source": [
    "# 赛题二：模型微调指导\n",
    "\n",
    "    本赛题要求基于开源中英文混合数学运算数据集，跑通baseline，并对MindFormers中LLama3-8b模型进行微调（LoRA或其他微调算法）。\n",
    "\n",
    "---\n",
    "\n",
    "    特别说明：如果在一个全新环境下运行，从obs解压后，带*标记的步骤可以不用执行\n",
    "\n",
    "---\n",
    "\n",
    "\n",
    "## 环境配置"
   ]
  },
  {
   "cell_type": "markdown",
   "id": "10cd1765-024d-44f5-a3f2-7f7758b4bb9d",
   "metadata": {},
   "source": [
    "### 下载mindformers\n",
    "\n",
    "    如果已经存在则可跳过这一步"
   ]
  },
  {
   "cell_type": "code",
   "execution_count": null,
   "id": "56e71f7a-16a6-48f2-a95a-4f587cf102bd",
   "metadata": {},
   "outputs": [],
   "source": [
    "!wget https://2024-ascend-innovation-contest-mindspore.obs.cn-southwest-2.myhuaweicloud.com/topic2-finetune/mindformers.zip\n",
    "!unzip mindformers.zip"
   ]
  },
  {
   "cell_type": "markdown",
   "id": "049cf8c8-42b2-4abc-ac27-cf84e7f36395",
   "metadata": {},
   "source": [
    "### 环境准备"
   ]
  },
  {
   "cell_type": "markdown",
   "id": "0c01f40c-1331-4033-bb4d-a5345f27630b",
   "metadata": {},
   "source": [
    "    每一次启动镜像都需要执行下面这些命令，以完成环境的初始化：\n",
    "\n",
    "- mindspore"
   ]
  },
  {
   "cell_type": "code",
   "execution_count": 1,
   "id": "9b56016f-fd83-4635-bcf4-a1de970652c5",
   "metadata": {},
   "outputs": [
    {
     "name": "stdout",
     "output_type": "stream",
     "text": [
      "Looking in indexes: http://pip.modelarts.private.com:8888/repository/pypi/simple\n",
      "Collecting mindspore==2.3.0RC2\n",
      "  Downloading http://pip.modelarts.private.com:8888/repository/pypi/packages/mindspore/2.3.0rc2/mindspore-2.3.0rc2-cp39-none-any.whl (244.0 MB)\n",
      "\u001b[K     |████████████████████████████████| 244.0 MB 61.0 MB/s eta 0:00:01\n",
      "\u001b[?25hRequirement already satisfied: numpy>=1.17.0 in /home/ma-user/anaconda3/envs/MindSpore/lib/python3.9/site-packages (from mindspore==2.3.0RC2) (1.22.0)\n",
      "Requirement already satisfied: protobuf>=3.13.0 in /home/ma-user/anaconda3/envs/MindSpore/lib/python3.9/site-packages (from mindspore==2.3.0RC2) (3.20.2)\n",
      "Requirement already satisfied: packaging>=20.0 in /home/ma-user/anaconda3/envs/MindSpore/lib/python3.9/site-packages (from mindspore==2.3.0RC2) (24.0)\n",
      "Requirement already satisfied: asttokens>=2.0.4 in /home/ma-user/anaconda3/envs/MindSpore/lib/python3.9/site-packages (from mindspore==2.3.0RC2) (2.4.1)\n",
      "Requirement already satisfied: astunparse>=1.6.3 in /home/ma-user/anaconda3/envs/MindSpore/lib/python3.9/site-packages (from mindspore==2.3.0RC2) (1.6.3)\n",
      "Requirement already satisfied: scipy>=1.5.4 in /home/ma-user/anaconda3/envs/MindSpore/lib/python3.9/site-packages (from mindspore==2.3.0RC2) (1.10.1)\n",
      "Requirement already satisfied: psutil>=5.6.1 in /home/ma-user/anaconda3/envs/MindSpore/lib/python3.9/site-packages (from mindspore==2.3.0RC2) (5.9.5)\n",
      "Requirement already satisfied: pillow>=6.2.0 in /home/ma-user/anaconda3/envs/MindSpore/lib/python3.9/site-packages (from mindspore==2.3.0RC2) (10.0.1)\n",
      "Requirement already satisfied: six>=1.12.0 in /home/ma-user/anaconda3/envs/MindSpore/lib/python3.9/site-packages (from asttokens>=2.0.4->mindspore==2.3.0RC2) (1.16.0)\n",
      "Requirement already satisfied: wheel<1.0,>=0.23.0 in /home/ma-user/anaconda3/envs/MindSpore/lib/python3.9/site-packages (from astunparse>=1.6.3->mindspore==2.3.0RC2) (0.38.4)\n",
      "Installing collected packages: mindspore\n",
      "  Attempting uninstall: mindspore\n",
      "    Found existing installation: mindspore 2.3.0rc4\n",
      "    Uninstalling mindspore-2.3.0rc4:\n",
      "      Successfully uninstalled mindspore-2.3.0rc4\n",
      "Successfully installed mindspore-2.3.0rc2\n",
      "\u001b[33mWARNING: You are using pip version 21.0.1; however, version 24.1.2 is available.\n",
      "You should consider upgrading via the '/home/ma-user/anaconda3/envs/MindSpore/bin/python3.9 -m pip install --upgrade pip' command.\u001b[0m\n"
     ]
    }
   ],
   "source": [
    "!pip install mindspore==2.3.0RC2"
   ]
  },
  {
   "cell_type": "markdown",
   "id": "403e08fe-e839-42b5-8386-c41a3023e199",
   "metadata": {},
   "source": [
    "- mindformers"
   ]
  },
  {
   "cell_type": "code",
   "execution_count": null,
   "id": "87d212d9-39a9-4998-8035-f6cdd37b4b41",
   "metadata": {},
   "outputs": [],
   "source": [
    "%cd /home/ma-user/work/mindformers/\n",
    "!bash build.sh"
   ]
  },
  {
   "cell_type": "markdown",
   "id": "feba542c-5ade-411c-a089-cd6fcd00f27a",
   "metadata": {},
   "source": [
    "- 环境变量设置"
   ]
  },
  {
   "cell_type": "code",
   "execution_count": 3,
   "id": "c46c2ebf-c3bd-4e4a-b533-228446faf0c4",
   "metadata": {},
   "outputs": [],
   "source": [
    "!export PYTHONPATH=\"${PYTHONPATH}:/home/ma-user/work/mindformers/\""
   ]
  },
  {
   "cell_type": "markdown",
   "id": "8735f9fa-3a34-4f43-ab4f-191812dc7ef3",
   "metadata": {},
   "source": [
    "- tiktoken"
   ]
  },
  {
   "cell_type": "code",
   "execution_count": 4,
   "id": "95ec375d-57bf-4b65-9777-cf44a7eba581",
   "metadata": {},
   "outputs": [
    {
     "name": "stdout",
     "output_type": "stream",
     "text": [
      "Looking in indexes: http://pip.modelarts.private.com:8888/repository/pypi/simple\n",
      "Collecting tiktoken\n",
      "  Downloading http://pip.modelarts.private.com:8888/repository/pypi/packages/tiktoken/0.7.0/tiktoken-0.7.0-cp39-cp39-manylinux_2_17_aarch64.manylinux2014_aarch64.whl (1.0 MB)\n",
      "\u001b[K     |████████████████████████████████| 1.0 MB 67.9 MB/s eta 0:00:01\n",
      "\u001b[?25hRequirement already satisfied: requests>=2.26.0 in /home/ma-user/anaconda3/envs/MindSpore/lib/python3.9/site-packages (from tiktoken) (2.27.1)\n",
      "Requirement already satisfied: regex>=2022.1.18 in /home/ma-user/anaconda3/envs/MindSpore/lib/python3.9/site-packages (from tiktoken) (2024.5.15)\n",
      "Requirement already satisfied: idna<4,>=2.5 in /home/ma-user/anaconda3/envs/MindSpore/lib/python3.9/site-packages (from requests>=2.26.0->tiktoken) (2.10)\n",
      "Requirement already satisfied: urllib3<1.27,>=1.21.1 in /home/ma-user/anaconda3/envs/MindSpore/lib/python3.9/site-packages (from requests>=2.26.0->tiktoken) (1.26.7)\n",
      "Requirement already satisfied: certifi>=2017.4.17 in /home/ma-user/anaconda3/envs/MindSpore/lib/python3.9/site-packages (from requests>=2.26.0->tiktoken) (2024.2.2)\n",
      "Requirement already satisfied: charset-normalizer~=2.0.0 in /home/ma-user/anaconda3/envs/MindSpore/lib/python3.9/site-packages (from requests>=2.26.0->tiktoken) (2.0.12)\n",
      "Installing collected packages: tiktoken\n",
      "Successfully installed tiktoken-0.7.0\n",
      "\u001b[33mWARNING: You are using pip version 21.0.1; however, version 24.1.2 is available.\n",
      "You should consider upgrading via the '/home/ma-user/anaconda3/envs/MindSpore/bin/python3.9 -m pip install --upgrade pip' command.\u001b[0m\n"
     ]
    }
   ],
   "source": [
    "!pip install tiktoken"
   ]
  },
  {
   "cell_type": "markdown",
   "id": "c5a70b2e-3868-4d1d-84ac-a3a33a58f6ac",
   "metadata": {},
   "source": [
    "## 模型权重和 tokenizer 文件准备\n",
    "\n",
    "    准备文件夹"
   ]
  },
  {
   "cell_type": "code",
   "execution_count": 7,
   "id": "e55b942f-b4fb-442f-a4c0-7a13db4d4bdc",
   "metadata": {},
   "outputs": [
    {
     "name": "stdout",
     "output_type": "stream",
     "text": [
      "/home/ma-user/work\n",
      "mkdir: cannot create directory ‘model’: File exists\n"
     ]
    }
   ],
   "source": [
    "%cd /home/ma-user/work/\n",
    "!mkdir model"
   ]
  },
  {
   "cell_type": "markdown",
   "id": "94c7bbed-c33c-42b7-8c1a-5116a44ca544",
   "metadata": {},
   "source": [
    "### 下载权重文件"
   ]
  },
  {
   "cell_type": "code",
   "execution_count": 8,
   "id": "daed00c1-0d9c-46b4-9bc8-1c01182f3d4a",
   "metadata": {},
   "outputs": [
    {
     "name": "stdout",
     "output_type": "stream",
     "text": [
      "--2024-07-27 08:55:17--  https://2024-ascend-innovation-contest-mindspore.obs.cn-southwest-2.myhuaweicloud.com/topic2-finetune/llama3-8B.ckpt\n",
      "Resolving 2024-ascend-innovation-contest-mindspore.obs.cn-southwest-2.myhuaweicloud.com (2024-ascend-innovation-contest-mindspore.obs.cn-southwest-2.myhuaweicloud.com)... 100.125.81.3, 100.125.81.67, 100.125.81.35\n",
      "Connecting to 2024-ascend-innovation-contest-mindspore.obs.cn-southwest-2.myhuaweicloud.com (2024-ascend-innovation-contest-mindspore.obs.cn-southwest-2.myhuaweicloud.com)|100.125.81.3|:443... connected.\n",
      "HTTP request sent, awaiting response... 200 OK\n",
      "Length: 16060541933 (15G) [binary/octet-stream]\n",
      "Saving to: ‘./model/llama3-8B.ckpt’\n",
      "\n",
      "llama3-8B.ckpt      100%[===================>]  14.96G   226MB/s    in 76s     \n",
      "\n",
      "2024-07-27 08:56:33 (203 MB/s) - ‘./model/llama3-8B.ckpt’ saved [16060541933/16060541933]\n",
      "\n"
     ]
    }
   ],
   "source": [
    "\n",
    "!wget https://2024-ascend-innovation-contest-mindspore.obs.cn-southwest-2.myhuaweicloud.com/topic2-finetune/llama3-8B.ckpt \\\n",
    "-P ./model"
   ]
  },
  {
   "cell_type": "markdown",
   "id": "01e202bb-000b-4843-ab7b-3a18e7cc975a",
   "metadata": {},
   "source": [
    "### tokenizer文件的下载命令"
   ]
  },
  {
   "cell_type": "code",
   "execution_count": 8,
   "id": "fafeb980-dc26-4418-bbb9-23ced4a702c6",
   "metadata": {},
   "outputs": [
    {
     "name": "stdout",
     "output_type": "stream",
     "text": [
      "--2024-07-25 18:53:24--  https://2024-ascend-innovation-contest-mindspore.obs.cn-southwest-2.myhuaweicloud.com/topic2-finetune/tokenizer.model\n",
      "Resolving 2024-ascend-innovation-contest-mindspore.obs.cn-southwest-2.myhuaweicloud.com (2024-ascend-innovation-contest-mindspore.obs.cn-southwest-2.myhuaweicloud.com)... 100.125.81.3, 100.125.81.35, 100.125.81.67\n",
      "Connecting to 2024-ascend-innovation-contest-mindspore.obs.cn-southwest-2.myhuaweicloud.com (2024-ascend-innovation-contest-mindspore.obs.cn-southwest-2.myhuaweicloud.com)|100.125.81.3|:443... connected.\n",
      "HTTP request sent, awaiting response... 200 OK\n",
      "Length: 2183982 (2.1M) [binary/octet-stream]\n",
      "Saving to: ‘./model/tokenizer.model’\n",
      "\n",
      "tokenizer.model     100%[===================>]   2.08M  --.-KB/s    in 0.01s   \n",
      "\n",
      "2024-07-25 18:53:24 (206 MB/s) - ‘./model/tokenizer.model’ saved [2183982/2183982]\n",
      "\n"
     ]
    }
   ],
   "source": [
    "!wget https://2024-ascend-innovation-contest-mindspore.obs.cn-southwest-2.myhuaweicloud.com/topic2-finetune/tokenizer.model -P ./model "
   ]
  },
  {
   "cell_type": "markdown",
   "id": "53049075-ff20-4b07-aeb9-bb5ab1938c4d",
   "metadata": {},
   "source": [
    "## 数据集准备\n",
    "\n",
    "    如果文件已经存在则可以不用执行"
   ]
  },
  {
   "cell_type": "code",
   "execution_count": null,
   "id": "8b7ae26e-255b-49f1-9d80-3103baa06161",
   "metadata": {},
   "outputs": [],
   "source": [
    "%cd /home/ma-user/work/\n",
    "!mkdir data"
   ]
  },
  {
   "cell_type": "markdown",
   "id": "68bbc610-fb76-4c32-9eb8-1d9b5cdacdc0",
   "metadata": {},
   "source": [
    "\n",
    "### 下载原始数据集 *"
   ]
  },
  {
   "cell_type": "code",
   "execution_count": null,
   "id": "2c1c0c54-8010-45f0-b1d0-9827571fed9c",
   "metadata": {},
   "outputs": [],
   "source": [
    "!cd /home/ma-user/work/\n",
    "\n",
    "!wget https://2024-ascend-innovation-contest-mindspore.obs.cn-southwest-2.myhuaweicloud.com/topic2-finetune/train.json -P /home/ma-user/work/data\n",
    "!wget https://2024-ascend-innovation-contest-mindspore.obs.cn-southwest-2.myhuaweicloud.com/topic2-finetune/data_converter.py -P /home/ma-user/work/data\n"
   ]
  },
  {
   "cell_type": "markdown",
   "id": "0f7183e7-536a-4dae-a9a1-5251d69c20df",
   "metadata": {},
   "source": [
    "### 添加 prompt 模板 *\n"
   ]
  },
  {
   "cell_type": "code",
   "execution_count": 4,
   "id": "5aad5f65-c732-41d9-9f44-b4dcb6532dcb",
   "metadata": {},
   "outputs": [],
   "source": [
    "#添加prompt\n",
    "!python /home/ma-user/work/data/add_prompt.py \\\n",
    "--input /home/ma-user/work/data/train_150k.json \\\n",
    "--output /home/ma-user/work/data/train_150k_with_prompt.json\n",
    "\n",
    "#转换数据\n",
    "!python /home/ma-user/work/data/data_converter.py \\\n",
    "--data_path /home/ma-user/work/data/train_150k_with_prompt.json \\\n",
    "--output_path /home/ma-user/work/data/train_150k_with_prompt-data-conversation.json\n"
   ]
  },
  {
   "cell_type": "markdown",
   "id": "826e935b-1ff9-4941-9f3e-673d729b35ce",
   "metadata": {},
   "source": [
    "### 转化为mindrecord格式\n",
    "    此处在jupyter notebook内，常常中断，但是实际上在运行，建议在控制台执行命令：\n",
    "```markdown  \n",
    "    ```bash  \n",
    "    cd /home/ma-user/work/mindformers  \n",
    "    python research/llama3/llama_preprocess.py \\  \n",
    "        --dataset_type qa \\  \n",
    "        --input_glob /home/ma-user/work/data/train_150k_with_prompt-data-conversation.json \\  \n",
    "        --model_file /home/ma-user/work/tokenizer.model \\  \n",
    "        --seq_length 256 \\  \n",
    "        --output_file /home/ma-user/work/data/train_150k-fastchat256.mindrecord\n",
    "    ```\n",
    "```\n",
    "\n"
   ]
  },
  {
   "cell_type": "code",
   "execution_count": null,
   "id": "258afa89-968f-4c53-99bc-be8fc05ad62f",
   "metadata": {},
   "outputs": [
    {
     "name": "stderr",
     "output_type": "stream",
     "text": [
      "/home/ma-user/anaconda3/envs/MindSpore/lib/python3.9/site-packages/IPython/core/magics/osm.py:417: UserWarning: using dhist requires you to install the `pickleshare` library.\n",
      "  self.shell.db['dhist'] = compress_dhist(dhist)[-100:]\n"
     ]
    },
    {
     "name": "stdout",
     "output_type": "stream",
     "text": [
      "/home/ma-user/work/mindformers/research/llama3\n",
      "/home/ma-user/anaconda3/envs/MindSpore/lib/python3.9/site-packages/numpy/core/getlimits.py:499: UserWarning: The value of the smallest subnormal for <class 'numpy.float64'> type is zero.\n",
      "  setattr(self, word, getattr(machar, word).flat[0])\n",
      "/home/ma-user/anaconda3/envs/MindSpore/lib/python3.9/site-packages/numpy/core/getlimits.py:89: UserWarning: The value of the smallest subnormal for <class 'numpy.float64'> type is zero.\n",
      "  return self._float_to_str(self.smallest_subnormal)\n",
      "/home/ma-user/anaconda3/envs/MindSpore/lib/python3.9/site-packages/numpy/core/getlimits.py:499: UserWarning: The value of the smallest subnormal for <class 'numpy.float32'> type is zero.\n",
      "  setattr(self, word, getattr(machar, word).flat[0])\n",
      "/home/ma-user/anaconda3/envs/MindSpore/lib/python3.9/site-packages/numpy/core/getlimits.py:89: UserWarning: The value of the smallest subnormal for <class 'numpy.float32'> type is zero.\n",
      "  return self._float_to_str(self.smallest_subnormal)\n"
     ]
    }
   ],
   "source": [
    "%cd /home/ma-user/work/mindformers/research/llama3/\n",
    "!python llama_preprocess.py \\\n",
    "--dataset_type qa \\\n",
    "--input_glob /home/ma-user/work/data/train_150k_with_prompt-data-conversation.json \\\n",
    "--model_file /home/ma-user/work/model/tokenizer.model \\\n",
    "--seq_length 256 \\\n",
    "--output_file /home/ma-user/work/data/train_150k_with_prompt-fastchat256.mindrecord"
   ]
  },
  {
   "cell_type": "markdown",
   "id": "40b1f990-41b6-4a0a-9215-85511ad35d44",
   "metadata": {},
   "source": [
    "## 修改配置文件并启动微调"
   ]
  },
  {
   "cell_type": "markdown",
   "id": "a5c67d9b-0ef1-41f7-993e-de02ce391df3",
   "metadata": {},
   "source": [
    "### 下载微调配置文件 *\n",
    "\n",
    "    如果以及存在，则不必执行"
   ]
  },
  {
   "cell_type": "code",
   "execution_count": 5,
   "id": "b74044a2-f687-4563-94b4-0b6d5e8d9734",
   "metadata": {},
   "outputs": [
    {
     "name": "stdout",
     "output_type": "stream",
     "text": [
      "/home/ma-user/work\n",
      "--2024-07-22 13:18:33--  https://2024-ascend-innovation-contest-mindspore.obs.cn-southwest-2.myhuaweicloud.com/topic2-finetune/run_llama3_8b_8k_800T_A2_64G_lora_dis_256.yaml\n",
      "Resolving 2024-ascend-innovation-contest-mindspore.obs.cn-southwest-2.myhuaweicloud.com (2024-ascend-innovation-contest-mindspore.obs.cn-southwest-2.myhuaweicloud.com)... 100.125.81.35, 100.125.81.67, 100.125.81.3\n",
      "Connecting to 2024-ascend-innovation-contest-mindspore.obs.cn-southwest-2.myhuaweicloud.com (2024-ascend-innovation-contest-mindspore.obs.cn-southwest-2.myhuaweicloud.com)|100.125.81.35|:443... connected.\n",
      "HTTP request sent, awaiting response... 200 OK\n",
      "Length: 5195 (5.1K) [text/yaml]\n",
      "Saving to: ‘run_llama3_8b_8k_800T_A2_64G_lora_dis_256.yaml.2’\n",
      "\n",
      "run_llama3_8b_8k_80 100%[===================>]   5.07K  --.-KB/s    in 0s      \n",
      "\n",
      "2024-07-22 13:18:33 (155 MB/s) - ‘run_llama3_8b_8k_800T_A2_64G_lora_dis_256.yaml.2’ saved [5195/5195]\n",
      "\n"
     ]
    }
   ],
   "source": [
    "%cd /home/ma-user/work\n",
    "!wget https://2024-ascend-innovation-contest-mindspore.obs.cn-southwest-2.myhuaweicloud.com/topic2-finetune/run_llama3_8b_8k_800T_A2_64G_lora_dis_256.yaml"
   ]
  },
  {
   "cell_type": "markdown",
   "id": "b2895752-fbcb-4c80-86b4-f952559587b1",
   "metadata": {},
   "source": [
    "### 启动训练\n",
    "---\n",
    "- config：指定配置文件路径\n",
    "- load_checkpoint：指定模型路径\n",
    "- train_data：指定训练数据路径\n",
    "\n",
    "---\n",
    "    特别说明：不要直接在jupyter notebook内执行下面这段脚本，最好在控制台上执行"
   ]
  },
  {
   "cell_type": "code",
   "execution_count": null,
   "id": "603bf398-0885-4875-8182-1aea24727771",
   "metadata": {},
   "outputs": [],
   "source": [
    "%cd /home/ma-user/work/mindformers/research/\n",
    "!bash ../scripts/msrun_launcher.sh \\\n",
    "\"llama3/run_llama3.py \\\n",
    "--config /home/ma-user/work/run_llama3_8b_8k_800T_A2_64G_lora_dis_256.yaml \\\n",
    "--load_checkpoint /home/ma-user/work/model/llama3-8B.ckpt \\\n",
    "--auto_trans_ckpt False \\\n",
    "--use_parallel True \\\n",
    "--run_mode finetune \\\n",
    "--train_data /home/ma-user/work/data/train_150k-fastchat256.mindrecord\" 4"
   ]
  },
  {
   "cell_type": "markdown",
   "id": "002c5cf9-89ad-47ab-b9b7-81eb36f2b181",
   "metadata": {},
   "source": [
    "### 绘制损失曲线\n",
    "\n",
    "    可以在训练过程中执行，可视化损失下降情况"
   ]
  },
  {
   "cell_type": "code",
   "execution_count": 2,
   "id": "d24d8bd0-fda8-404b-8d91-f2528aaa79b6",
   "metadata": {},
   "outputs": [
    {
     "name": "stderr",
     "output_type": "stream",
     "text": [
      "/home/ma-user/anaconda3/envs/MindSpore/lib/python3.9/site-packages/IPython/core/magics/osm.py:417: UserWarning: using dhist requires you to install the `pickleshare` library.\n",
      "  self.shell.db['dhist'] = compress_dhist(dhist)[-100:]\n"
     ]
    },
    {
     "name": "stdout",
     "output_type": "stream",
     "text": [
      "/home/ma-user/work\n"
     ]
    },
    {
     "data": {
      "image/png": "[encoded data removed]",
      "text/plain": [
       "<Figure size 1000x500 with 1 Axes>"
      ]
     },
     "metadata": {},
     "output_type": "display_data"
    }
   ],
   "source": [
    "%cd /home/ma-user/work\n",
    "import step_loss_plot as slp\n",
    "step_loss_pairs = slp.parse_log_for_step_loss('mindformers/research/output/msrun_log/worker_0.log')\n",
    "slp.plot_step_loss(step_loss_pairs,10)"
   ]
  },
  {
   "cell_type": "markdown",
   "id": "d1949032-c2a2-436c-8c89-a5ca37751f7f",
   "metadata": {},
   "source": [
    "### 权重合并\n",
    "    训练结束后，对权重进行合并"
   ]
  },
  {
   "cell_type": "code",
   "execution_count": 6,
   "id": "2951cfa5-1747-438b-b209-ecfa4cd84db4",
   "metadata": {},
   "outputs": [
    {
     "name": "stderr",
     "output_type": "stream",
     "text": [
      "/home/ma-user/anaconda3/envs/MindSpore/lib/python3.9/site-packages/IPython/core/magics/osm.py:417: UserWarning: using dhist requires you to install the `pickleshare` library.\n",
      "  self.shell.db['dhist'] = compress_dhist(dhist)[-100:]\n"
     ]
    },
    {
     "name": "stdout",
     "output_type": "stream",
     "text": [
      "/home/ma-user/work/mindformers\n",
      "/home/ma-user/anaconda3/envs/MindSpore/lib/python3.9/site-packages/numpy/core/getlimits.py:499: UserWarning: The value of the smallest subnormal for <class 'numpy.float64'> type is zero.\n",
      "  setattr(self, word, getattr(machar, word).flat[0])\n",
      "/home/ma-user/anaconda3/envs/MindSpore/lib/python3.9/site-packages/numpy/core/getlimits.py:89: UserWarning: The value of the smallest subnormal for <class 'numpy.float64'> type is zero.\n",
      "  return self._float_to_str(self.smallest_subnormal)\n",
      "/home/ma-user/anaconda3/envs/MindSpore/lib/python3.9/site-packages/numpy/core/getlimits.py:499: UserWarning: The value of the smallest subnormal for <class 'numpy.float32'> type is zero.\n",
      "  setattr(self, word, getattr(machar, word).flat[0])\n",
      "/home/ma-user/anaconda3/envs/MindSpore/lib/python3.9/site-packages/numpy/core/getlimits.py:89: UserWarning: The value of the smallest subnormal for <class 'numpy.float32'> type is zero.\n",
      "  return self._float_to_str(self.smallest_subnormal)\n",
      "src_ckpt_strategy: /home/ma-user/work/mindformers/research/output/strategy/merged_ckpt_strategy.ckpt\n",
      "dst_ckpt_strategy: None\n",
      "src_ckpt_dir: /home/ma-user/work/mindformers/research/output/checkpoint_network/\n",
      "dst_ckpt_dir: /home/ma-user/work/model/\n",
      "prefix: new_lora_checkpoint_\n",
      "......Start transform......\n",
      "......Transform succeed!......\n"
     ]
    }
   ],
   "source": [
    "%cd /home/ma-user/work/mindformers/\n",
    "!python mindformers/tools/transform_ckpt.py \\\n",
    "--src_ckpt_strategy /home/ma-user/work/mindformers/research/output/strategy/ \\\n",
    "--src_ckpt_dir /home/ma-user/work/mindformers/research/output/checkpoint_network/ \\\n",
    "--dst_ckpt_dir /home/ma-user/work/model/ \\\n",
    "--prefix \"new_lora_checkpoint_\""
   ]
  },
  {
   "cell_type": "markdown",
   "id": "fed9fb8d-cce1-4c57-8038-5aad7ff78925",
   "metadata": {},
   "source": [
    "## 微调后模型原有能力评估\n"
   ]
  },
  {
   "cell_type": "markdown",
   "id": "46c477e4-73a3-4232-9027-d9346fe61438",
   "metadata": {},
   "source": [
    "### 获取数据集 *"
   ]
  },
  {
   "cell_type": "code",
   "execution_count": 2,
   "id": "901fd9fe-a2ec-481a-82a6-dd78d855147f",
   "metadata": {},
   "outputs": [
    {
     "name": "stderr",
     "output_type": "stream",
     "text": [
      "/home/ma-user/anaconda3/envs/MindSpore/lib/python3.9/site-packages/IPython/core/magics/osm.py:417: UserWarning: using dhist requires you to install the `pickleshare` library.\n",
      "  self.shell.db['dhist'] = compress_dhist(dhist)[-100:]\n"
     ]
    },
    {
     "name": "stdout",
     "output_type": "stream",
     "text": [
      "/home/ma-user/work/data\n",
      "--2024-07-22 16:04:40--  https://2024-ascend-innovation-contest-mindspore.obs.cn-southwest-2.myhuaweicloud.com/topic2-finetune/squad1.1.zip\n",
      "Resolving 2024-ascend-innovation-contest-mindspore.obs.cn-southwest-2.myhuaweicloud.com (2024-ascend-innovation-contest-mindspore.obs.cn-southwest-2.myhuaweicloud.com)... 100.125.81.3, 100.125.81.35, 100.125.81.67\n",
      "Connecting to 2024-ascend-innovation-contest-mindspore.obs.cn-southwest-2.myhuaweicloud.com (2024-ascend-innovation-contest-mindspore.obs.cn-southwest-2.myhuaweicloud.com)|100.125.81.3|:443... connected.\n",
      "HTTP request sent, awaiting response... 200 OK\n",
      "Length: 9152254 (8.7M) [application/zip]\n",
      "Saving to: ‘squad1.1.zip.1’\n",
      "\n",
      "squad1.1.zip.1      100%[===================>]   8.73M  --.-KB/s    in 0.07s   \n",
      "\n",
      "2024-07-22 16:04:40 (117 MB/s) - ‘squad1.1.zip.1’ saved [9152254/9152254]\n",
      "\n",
      "Archive:  /home/ma-user/work/data/squad1.1.zip\n",
      "  inflating: dev-v1.1.json           \n",
      "  inflating: train-v1.1.json         \n"
     ]
    }
   ],
   "source": [
    "%cd /home/ma-user/work/data\n",
    "!wget https://2024-ascend-innovation-contest-mindspore.obs.cn-southwest-2.myhuaweicloud.com/topic2-finetune/squad1.1.zip\n",
    "!unzip /home/ma-user/work/data/squad1.1.zip\n"
   ]
  },
  {
   "cell_type": "markdown",
   "id": "d0563aba-21af-41b6-8946-dbcf333a3ee5",
   "metadata": {},
   "source": [
    "### 处理数据成 mindrecord 格式 *\n",
    "\n",
    "    以下内容需要在控制台执行"
   ]
  },
  {
   "cell_type": "code",
   "execution_count": 1,
   "id": "72dcdfab-1a0d-4b11-bb1f-7f642961d7d5",
   "metadata": {},
   "outputs": [
    {
     "name": "stderr",
     "output_type": "stream",
     "text": [
      "/home/ma-user/anaconda3/envs/MindSpore/lib/python3.9/site-packages/IPython/core/magics/osm.py:417: UserWarning: using dhist requires you to install the `pickleshare` library.\n",
      "  self.shell.db['dhist'] = compress_dhist(dhist)[-100:]\n"
     ]
    },
    {
     "name": "stdout",
     "output_type": "stream",
     "text": [
      "/home/ma-user/work\n"
     ]
    },
    {
     "ename": "OSError",
     "evalue": "Background processes not supported.",
     "output_type": "error",
     "traceback": [
      "\u001b[0;31m---------------------------------------------------------------------------\u001b[0m",
      "\u001b[0;31mOSError\u001b[0m                                   Traceback (most recent call last)",
      "Cell \u001b[0;32mIn[1], line 3\u001b[0m\n\u001b[1;32m      1\u001b[0m get_ipython()\u001b[38;5;241m.\u001b[39mrun_line_magic(\u001b[38;5;124m'\u001b[39m\u001b[38;5;124mcd\u001b[39m\u001b[38;5;124m'\u001b[39m, \u001b[38;5;124m'\u001b[39m\u001b[38;5;124m/home/ma-user/work/\u001b[39m\u001b[38;5;124m'\u001b[39m)\n\u001b[0;32m----> 3\u001b[0m \u001b[43mget_ipython\u001b[49m\u001b[43m(\u001b[49m\u001b[43m)\u001b[49m\u001b[38;5;241;43m.\u001b[39;49m\u001b[43msystem\u001b[49m\u001b[43m(\u001b[49m\u001b[38;5;124;43m'\u001b[39;49m\u001b[38;5;124;43mpython squad_data_process.py  --input_file /home/ma-user/work/data/dev-v1.1.json  --output_file /home/ma-user/work/data/squad8192.mindrecord  --mode eval  --max_length 8192  --tokenizer_type \u001b[39;49m\u001b[38;5;124;43m\"\u001b[39;49m\u001b[38;5;124;43mllama3-8B\u001b[39;49m\u001b[38;5;124;43m\"\u001b[39;49m\u001b[38;5;124;43m > test_eval_base.log 2>&1 &\u001b[39;49m\u001b[38;5;124;43m'\u001b[39;49m\u001b[43m)\u001b[49m\n",
      "File \u001b[0;32m~/anaconda3/envs/MindSpore/lib/python3.9/site-packages/ipykernel/zmqshell.py:621\u001b[0m, in \u001b[0;36mZMQInteractiveShell.system_piped\u001b[0;34m(self, cmd)\u001b[0m\n\u001b[1;32m    606\u001b[0m \u001b[38;5;250m\u001b[39m\u001b[38;5;124;03m\"\"\"Call the given cmd in a subprocess, piping stdout/err\u001b[39;00m\n\u001b[1;32m    607\u001b[0m \n\u001b[1;32m    608\u001b[0m \u001b[38;5;124;03mParameters\u001b[39;00m\n\u001b[0;32m   (...)\u001b[0m\n\u001b[1;32m    613\u001b[0m \u001b[38;5;124;03m    other than simple text.\u001b[39;00m\n\u001b[1;32m    614\u001b[0m \u001b[38;5;124;03m\"\"\"\u001b[39;00m\n\u001b[1;32m    615\u001b[0m \u001b[38;5;28;01mif\u001b[39;00m cmd\u001b[38;5;241m.\u001b[39mrstrip()\u001b[38;5;241m.\u001b[39mendswith(\u001b[38;5;124m'\u001b[39m\u001b[38;5;124m&\u001b[39m\u001b[38;5;124m'\u001b[39m):\n\u001b[1;32m    616\u001b[0m     \u001b[38;5;66;03m# this is *far* from a rigorous test\u001b[39;00m\n\u001b[1;32m    617\u001b[0m     \u001b[38;5;66;03m# We do not support backgrounding processes because we either use\u001b[39;00m\n\u001b[1;32m    618\u001b[0m     \u001b[38;5;66;03m# pexpect or pipes to read from.  Users can always just call\u001b[39;00m\n\u001b[1;32m    619\u001b[0m     \u001b[38;5;66;03m# os.system() or use ip.system=ip.system_raw\u001b[39;00m\n\u001b[1;32m    620\u001b[0m     \u001b[38;5;66;03m# if they really want a background process.\u001b[39;00m\n\u001b[0;32m--> 621\u001b[0m     \u001b[38;5;28;01mraise\u001b[39;00m \u001b[38;5;167;01mOSError\u001b[39;00m(\u001b[38;5;124m\"\u001b[39m\u001b[38;5;124mBackground processes not supported.\u001b[39m\u001b[38;5;124m\"\u001b[39m)\n\u001b[1;32m    623\u001b[0m \u001b[38;5;66;03m# we explicitly do NOT return the subprocess status code, because\u001b[39;00m\n\u001b[1;32m    624\u001b[0m \u001b[38;5;66;03m# a non-None value would trigger :func:`sys.displayhook` calls.\u001b[39;00m\n\u001b[1;32m    625\u001b[0m \u001b[38;5;66;03m# Instead, we store the exit_code in user_ns.\u001b[39;00m\n\u001b[1;32m    626\u001b[0m \u001b[38;5;66;03m# Also, protect system call from UNC paths on Windows here too\u001b[39;00m\n\u001b[1;32m    627\u001b[0m \u001b[38;5;66;03m# as is done in InteractiveShell.system_raw\u001b[39;00m\n\u001b[1;32m    628\u001b[0m \u001b[38;5;28;01mif\u001b[39;00m sys\u001b[38;5;241m.\u001b[39mplatform \u001b[38;5;241m==\u001b[39m \u001b[38;5;124m'\u001b[39m\u001b[38;5;124mwin32\u001b[39m\u001b[38;5;124m'\u001b[39m:\n",
      "\u001b[0;31mOSError\u001b[0m: Background processes not supported."
     ]
    }
   ],
   "source": [
    "%cd /home/ma-user/work/\n",
    "\n",
    "!python squad_data_process.py \\\n",
    "--input_file /home/ma-user/work/data/dev-v1.1.json \\\n",
    "--output_file /home/ma-user/work/data/squad8192.mindrecord \\\n",
    "--mode eval \\\n",
    "--max_length 8192 \\\n",
    "--tokenizer_type \"llama3-8B\" > test_eval_base.log 2>&1 &"
   ]
  },
  {
   "cell_type": "markdown",
   "id": "272cc28b-c9b6-4a8e-9844-2192dfce7928",
   "metadata": {},
   "source": [
    "### 加载lora微调的配置文件 *"
   ]
  },
  {
   "cell_type": "code",
   "execution_count": 2,
   "id": "376c954f-1160-449e-99c7-f3c46a5bd492",
   "metadata": {},
   "outputs": [
    {
     "name": "stdout",
     "output_type": "stream",
     "text": [
      "/home/ma-user/work\n",
      "--2024-07-22 16:22:51--  https://2024-ascend-innovation-contest-mindspore.obs.cn-southwest-2.myhuaweicloud.com/topic2-finetune/run_llama3_8b_8k_800T_A2_64G_lora_256_base_eval.yaml\n",
      "Resolving 2024-ascend-innovation-contest-mindspore.obs.cn-southwest-2.myhuaweicloud.com (2024-ascend-innovation-contest-mindspore.obs.cn-southwest-2.myhuaweicloud.com)... 100.125.81.67, 100.125.81.35, 100.125.81.3\n",
      "Connecting to 2024-ascend-innovation-contest-mindspore.obs.cn-southwest-2.myhuaweicloud.com (2024-ascend-innovation-contest-mindspore.obs.cn-southwest-2.myhuaweicloud.com)|100.125.81.67|:443... connected.\n",
      "HTTP request sent, awaiting response... 200 OK\n",
      "Length: 5443 (5.3K) [text/yaml]\n",
      "Saving to: ‘run_llama3_8b_8k_800T_A2_64G_lora_256_base_eval.yaml’\n",
      "\n",
      "run_llama3_8b_8k_80 100%[===================>]   5.32K  --.-KB/s    in 0s      \n",
      "\n",
      "2024-07-22 16:22:51 (117 MB/s) - ‘run_llama3_8b_8k_800T_A2_64G_lora_256_base_eval.yaml’ saved [5443/5443]\n",
      "\n"
     ]
    }
   ],
   "source": [
    "\n",
    "%cd /home/ma-user/work/\n",
    "!wget https://2024-ascend-innovation-contest-mindspore.obs.cn-southwest-2.myhuaweicloud.com/topic2-finetune/run_llama3_8b_8k_800T_A2_64G_lora_256_base_eval.yaml\n"
   ]
  },
  {
   "cell_type": "markdown",
   "id": "1031ad23-2f9f-48ac-9b0f-283ad2b9b629",
   "metadata": {},
   "source": [
    "### 开启评测"
   ]
  },
  {
   "cell_type": "code",
   "execution_count": null,
   "id": "54800973-2b94-4c5c-800f-69d0d3dba8f9",
   "metadata": {},
   "outputs": [],
   "source": [
    "%cd /home/ma-user/work/mindformers\n",
    "!python run_mindformer.py \\\n",
    "--config /home/ma-user/work/run_llama3_8b_8k_800T_A2_64G_lora_256_base_eval.yaml \\\n",
    "--eval_dataset_dir /home/ma-user/work/data/squad8192.mindrecord \\\n",
    "--run_mode eval \\\n",
    "--load_checkpoint /home/ma-user/work/model/rank_0/new_lora_checkpoint_0.ckpt \\\n",
    "--epochs 1 \\\n",
    "--batch_size 1 \\\n",
    "--use_parallel False \\\n",
    "--device_id 0 \\\n",
    "> /home/ma-user/work/log/dev-v1.1_eval.log 2>&1 &"
   ]
  },
  {
   "cell_type": "markdown",
   "id": "c06722c3-105e-4b0d-9961-f44d8d6624ba",
   "metadata": {},
   "source": [
    "## 微调参数比例计算\n",
    "\n",
    "    模型微调参数的数量可在运行日志中获取"
   ]
  },
  {
   "cell_type": "code",
   "execution_count": 2,
   "id": "6997ed67-49d7-42ec-b354-f5d25895b52a",
   "metadata": {},
   "outputs": [
    {
     "name": "stderr",
     "output_type": "stream",
     "text": [
      "/home/ma-user/anaconda3/envs/MindSpore/lib/python3.9/site-packages/IPython/core/magics/osm.py:417: UserWarning: using dhist requires you to install the `pickleshare` library.\n",
      "  self.shell.db['dhist'] = compress_dhist(dhist)[-100:]\n"
     ]
    },
    {
     "name": "stdout",
     "output_type": "stream",
     "text": [
      "/home/ma-user/work/mindformers/research/output/msrun_log\n",
      "2024-07-26 09:01:38,390 - mindformers[mindformers/trainer/base_trainer.py:543] - INFO - Network Parameters: 7077888.\n"
     ]
    }
   ],
   "source": [
    "%cd /home/ma-user/work/mindformers/research/output/msrun_log\n",
    "!cat worker_0.log |grep \"Network Parameters\""
   ]
  },
  {
   "cell_type": "markdown",
   "id": "3ddfd433-f4ad-436d-a636-5c8c59d55743",
   "metadata": {},
   "source": [
    "## 运行推理\n",
    "\n",
    "### 下载推理配置 *\n",
    "（如果已经存在则不用执行）"
   ]
  },
  {
   "cell_type": "code",
   "execution_count": 5,
   "id": "6747d0d3-be95-4964-a9af-b9b792902f13",
   "metadata": {},
   "outputs": [
    {
     "name": "stdout",
     "output_type": "stream",
     "text": [
      "/home/ma-user/work\n",
      "--2024-07-22 17:09:14--  https://2024-ascend-innovation-contest-mindspore.obs.cn-southwest-2.myhuaweicloud.com/topic2-finetune/run_llama3_test.py\n",
      "Resolving 2024-ascend-innovation-contest-mindspore.obs.cn-southwest-2.myhuaweicloud.com (2024-ascend-innovation-contest-mindspore.obs.cn-southwest-2.myhuaweicloud.com)... 100.125.81.35, 100.125.81.67, 100.125.81.3\n",
      "Connecting to 2024-ascend-innovation-contest-mindspore.obs.cn-southwest-2.myhuaweicloud.com (2024-ascend-innovation-contest-mindspore.obs.cn-southwest-2.myhuaweicloud.com)|100.125.81.35|:443... connected.\n",
      "HTTP request sent, awaiting response... 200 OK\n",
      "Length: 10718 (10K) [application/octet-stream]\n",
      "Saving to: ‘run_llama3_test.py.1’\n",
      "\n",
      "run_llama3_test.py. 100%[===================>]  10.47K  --.-KB/s    in 0s      \n",
      "\n",
      "2024-07-22 17:09:14 (172 MB/s) - ‘run_llama3_test.py.1’ saved [10718/10718]\n",
      "\n",
      "--2024-07-22 17:09:14--  https://2024-ascend-innovation-contest-mindspore.obs.cn-southwest-2.myhuaweicloud.com/topic2-finetune/run_llama3_8b_8k_800T_A2_64G_lora_256_eval.yaml\n",
      "Resolving 2024-ascend-innovation-contest-mindspore.obs.cn-southwest-2.myhuaweicloud.com (2024-ascend-innovation-contest-mindspore.obs.cn-southwest-2.myhuaweicloud.com)... 100.125.81.3, 100.125.81.35, 100.125.81.67\n",
      "Connecting to 2024-ascend-innovation-contest-mindspore.obs.cn-southwest-2.myhuaweicloud.com (2024-ascend-innovation-contest-mindspore.obs.cn-southwest-2.myhuaweicloud.com)|100.125.81.3|:443... connected.\n",
      "HTTP request sent, awaiting response... 200 OK\n",
      "Length: 5425 (5.3K) [text/yaml]\n",
      "Saving to: ‘run_llama3_8b_8k_800T_A2_64G_lora_256_eval.yaml’\n",
      "\n",
      "run_llama3_8b_8k_80 100%[===================>]   5.30K  --.-KB/s    in 0s      \n",
      "\n",
      "2024-07-22 17:09:15 (117 MB/s) - ‘run_llama3_8b_8k_800T_A2_64G_lora_256_eval.yaml’ saved [5425/5425]\n",
      "\n"
     ]
    }
   ],
   "source": [
    "\n",
    "%cd /home/ma-user/work\n",
    "!wget https://2024-ascend-innovation-contest-mindspore.obs.cn-southwest-2.myhuaweicloud.com/topic2-finetune/run_llama3_test.py\n",
    "\n",
    "\n",
    "!wget https://2024-ascend-innovation-contest-mindspore.obs.cn-southwest-2.myhuaweicloud.com/topic2-finetune/run_llama3_8b_8k_800T_A2_64G_lora_256_eval.yaml"
   ]
  },
  {
   "cell_type": "markdown",
   "id": "d0996167-2da7-4daa-9ca9-779533d32348",
   "metadata": {},
   "source": [
    "### 执行推理\n"
   ]
  },
  {
   "cell_type": "code",
   "execution_count": null,
   "id": "6dce1296-21a0-47c9-913e-f6deda344776",
   "metadata": {},
   "outputs": [],
   "source": [
    "%cd /home/ma-user/work\n",
    "!python run_llama3_test.py \\\n",
    "--config /home/ma-user/work/run_llama3_8b_8k_800T_A2_64G_lora_256_eval.yaml \\\n",
    "--run_mode predict \\\n",
    "--use_parallel False \\\n",
    "--load_checkpoint /home/ma-user/work/model/rank_0/new_lora_checkpoint_1200.ckpt \\\n",
    "--vocab_file /home/ma-user/work/model/tokenizer.model \\\n",
    "--auto_trans_ckpt False \\\n",
    "--input_dir \"/home/ma-user/work/data/test_100.json\"\n",
    "> /home/ma-user/work/log/data_test_2000_1.log 2>&1 &"
   ]
  },
  {
   "cell_type": "markdown",
   "id": "3cc6aaf4-040b-4ed0-8eea-411c336e3f39",
   "metadata": {},
   "source": [
    "## 上传OBS桶\n",
    "\n",
    "### 压缩代码及配置文件"
   ]
  },
  {
   "cell_type": "code",
   "execution_count": null,
   "id": "c4d6803e-a5e6-4762-9057-4f8319d4da11",
   "metadata": {},
   "outputs": [
    {
     "name": "stdout",
     "output_type": "stream",
     "text": [
      "/home/ma-user/work\n",
      "  adding: data/ (stored 0%)\n",
      "  adding: data/.ipynb_checkpoints/ (stored 0%)\n",
      "  adding: data/.ipynb_checkpoints/add_prompt-checkpoint.py (deflated 45%)\n",
      "  adding: data/.ipynb_checkpoints/train_150k_with_prompt-data-conversation-checkpoint.json (deflated 95%)\n",
      "  adding: data/.ipynb_checkpoints/data_converter-checkpoint.py (deflated 61%)\n",
      "  adding: data/.ipynb_checkpoints/dev-v1.1-checkpoint.json (deflated 79%)\n",
      "  adding: data/.ipynb_checkpoints/train_150k-data-conversation-checkpoint.json (deflated 93%)\n",
      "  adding: data/test_16.json (deflated 58%)\n",
      "  adding: data/train_150k-fastchat256.mindrecord.db (deflated 63%)\n",
      "  adding: data/data_converter.py (deflated 64%)\n",
      "  adding: data/train_150k-fastchat256.mindrecord (deflated 96%)\n",
      "  adding: data/train_150k-data-conversation.json (deflated 93%)\n",
      "  adding: data/test_128.json (deflated 74%)\n",
      "  adding: data/squad1.1.zip (stored 0%)\n",
      "  adding: data/dev-v1.1.json (deflated 79%)\n",
      "  adding: data/train.json"
     ]
    }
   ],
   "source": [
    "%cd /home/ma-user/work\n",
    "!zip -r lora-fine-tuning.zip \\\n",
    "./data \\\n",
    "./img \\\n",
    "./log \\\n",
    "./mindformers/research/output/msrun_log \\\n",
    "llama3_tokenizer.py \\\n",
    "run_llama3_8b_8k_800T_A2_64G_lora_256_base_eval.yaml \\\n",
    "run_llama3_8b_8k_800T_A2_64G_lora_256_eval.yaml \\\n",
    "run_llama3_8b_8k_800T_A2_64G_lora_dis_256.yaml \\\n",
    "run_llama3_test.py \\\n",
    "run.ipynb \\\n",
    "squad_data_process.py \\\n",
    "step_loss_plot.py \\\n",
    "eval.ipynb \\\n",
    "result_npy.npy \\\n",
    "accurate_evaluation.py \\\n",
    "result_npy_base.npy \\\n",
    "\n",
    "\n"
   ]
  },
  {
   "cell_type": "markdown",
   "id": "a71236b6-f6b4-49e5-98b2-01cb08626ac6",
   "metadata": {},
   "source": [
    "### 上传压缩包"
   ]
  },
  {
   "cell_type": "code",
   "execution_count": 12,
   "id": "349c0803-b6d7-40d6-a428-7268d7a9a190",
   "metadata": {},
   "outputs": [],
   "source": [
    "import moxing as mox\n",
    "#上传一个OBS文件obs_file.txt，从Notebook上传至OBS\n",
    "mox.file.copy('lora-fine-tuning.zip', 'obs://llama3/lora-fine-tuning.zip')"
   ]
  },
  {
   "cell_type": "markdown",
   "id": "467b2a56-efa0-4c69-b8a1-505122439d6c",
   "metadata": {},
   "source": [
    "### 上传模型权重"
   ]
  },
  {
   "cell_type": "code",
   "execution_count": 4,
   "id": "9cb87a4e-40be-4fd7-823d-70b48576e138",
   "metadata": {},
   "outputs": [],
   "source": [
    "import moxing as mox\n",
    "#上传一个OBS文件obs_file.txt，从Notebook上传至OBS\n",
    "mox.file.copy('model/rank_0/new_lora_checkpoint_0.ckpt', 'obs://llama3/new_lora_checkpoint_0.ckpt')"
   ]
  },
  {
   "cell_type": "markdown",
   "id": "20deb7aa-65d7-4a32-8572-3617ec49173e",
   "metadata": {},
   "source": [
    "## 进程查看指令"
   ]
  },
  {
   "cell_type": "code",
   "execution_count": 2,
   "id": "a7bcc6ae-fc11-44d1-845d-712442db0fb4",
   "metadata": {},
   "outputs": [
    {
     "name": "stdout",
     "output_type": "stream",
     "text": [
      "ma-user      233  0.6  0.0 449628 82692 ?        Sl   15:23   0:08 /modelarts/authoring/notebook-conda/bin/python /modelarts/authoring/notebook-conda/bin/jupyter-kernelgateway --KernelGatewayApp.ip=172.16.0.182 --KernelGatewayApp.port=8889 --KernelGatewayApp.api=kernel_gateway.jupyter_websocket --KernelGatewayApp.auth_token=c5014b8648f1efb2eaef197a64a22d8e8af5a144bb24889b4bad154847b6584e-37b6c835eb6863e4c3daa208a27ef3fc --JupyterWebsocketPersonality.list_kernels=True --debug\n",
      "ma-user      261  4.2  0.0 42882312 165432 ?     Sl   15:23   0:58 /modelarts/authoring/notebook-conda/bin/python /modelarts/authoring/notebook-conda/bin/jupyter-lab --config=/modelarts/authoring/notebook-conda/etc/jupyter/jupyter_notebook_config.py --app-dir=/home/ma-user/.lab/console\n",
      "ma-user     2334  0.7  0.0 1072196 83372 ?       Ssl  15:25   0:09 /home/ma-user/anaconda3/envs/MindSpore/bin/python -m ipykernel -f /home/ma-user/.local/share/jupyter/runtime/kernel-79e4e271-44db-42e5-9039-56b9eff39470.json\n",
      "ma-user     2382  0.9  0.0 2780384 162888 ?      Sl   15:25   0:12 /modelarts/authoring/notebook-conda/bin/python -m pylsp\n",
      "ma-user     3041  0.0  0.0 242052 26968 ?        S    15:25   0:00 /modelarts/authoring/notebook-conda/bin/python /modelarts/authoring/notebook-conda/lib/python3.7/site-packages/jedi/inference/compiled/subprocess/__main__.py /modelarts/authoring/notebook-conda/lib/python3.7/site-packages 3.7.10\n",
      "ma-user    25944  0.4  0.0 241288 26164 ?        S    15:44   0:00 /modelarts/authoring/notebook-conda/bin/python /modelarts/authoring/notebook-conda/lib/python3.7/site-packages/jedi/inference/compiled/subprocess/__main__.py /modelarts/authoring/notebook-conda/lib/python3.7/site-packages 3.7.10\n",
      "ma-user    26507  1.1  0.0 971520 72060 ?        Ssl  15:44   0:01 /home/ma-user/anaconda3/envs/MindSpore/bin/python -m ipykernel -f /home/ma-user/.local/share/jupyter/runtime/kernel-2b43527e-3f81-459b-b67d-a204a0fe7a84.json\n",
      "ma-user    26825  399  1.0 8618902396 15882992 pts/0 RNl 15:44   7:27 python run_llama3_test.py --config /home/ma-user/work/run_llama3_8b_8k_800T_A2_64G_lora_256_eval.yaml --run_mode predict --use_parallel False --load_checkpoint /home/ma-user/work/model/rank_0/new_lora_checkpoint_0.ckpt --vocab_file /home/ma-user/work/model/tokenizer.model --auto_trans_ckpt False --input_dir /home/ma-user/work/data/test_128.json\n",
      "ma-user    27409  4.9  0.0 11516104 841844 pts/0 SNl  15:45   0:04 python run_llama3_test.py --config /home/ma-user/work/run_llama3_8b_8k_800T_A2_64G_lora_256_eval.yaml --run_mode predict --use_parallel False --load_checkpoint /home/ma-user/work/model/rank_0/new_lora_checkpoint_0.ckpt --vocab_file /home/ma-user/work/model/tokenizer.model --auto_trans_ckpt False --input_dir /home/ma-user/work/data/test_128.json\n",
      "ma-user    27526  0.1  0.0 223856 10960 pts/0    SN   15:45   0:00 /home/ma-user/anaconda3/envs/MindSpore/bin/python -c from multiprocessing.resource_tracker import main;main(214)\n",
      "ma-user    27527  0.1  0.0 225344 12112 pts/0    SN   15:45   0:00 /home/ma-user/anaconda3/envs/MindSpore/bin/python -c from multiprocessing.forkserver import main; main(219, 220, [], **{})\n",
      "ma-user    27531  7.9  0.0 725744 386816 pts/0   SNl  15:45   0:07 /home/ma-user/anaconda3/envs/MindSpore/bin/python -c from multiprocessing.forkserver import main; main(219, 220, [], **{})\n",
      "ma-user    27532  8.0  0.0 725744 380276 pts/0   SNl  15:45   0:07 /home/ma-user/anaconda3/envs/MindSpore/bin/python -c from multiprocessing.forkserver import main; main(219, 220, [], **{})\n",
      "ma-user    27533  8.1  0.0 725744 379964 pts/0   SNl  15:45   0:07 /home/ma-user/anaconda3/envs/MindSpore/bin/python -c from multiprocessing.forkserver import main; main(219, 220, [], **{})\n",
      "ma-user    27534  8.1  0.0 725744 379708 pts/0   SNl  15:45   0:07 /home/ma-user/anaconda3/envs/MindSpore/bin/python -c from multiprocessing.forkserver import main; main(219, 220, [], **{})\n",
      "ma-user    27535  8.0  0.0 725660 381768 pts/0   SNl  15:45   0:07 /home/ma-user/anaconda3/envs/MindSpore/bin/python -c from multiprocessing.forkserver import main; main(219, 220, [], **{})\n",
      "ma-user    27536  8.0  0.0 725696 379348 pts/0   SNl  15:45   0:07 /home/ma-user/anaconda3/envs/MindSpore/bin/python -c from multiprocessing.forkserver import main; main(219, 220, [], **{})\n",
      "ma-user    27537  8.0  0.0 725696 381996 pts/0   SNl  15:45   0:07 /home/ma-user/anaconda3/envs/MindSpore/bin/python -c from multiprocessing.forkserver import main; main(219, 220, [], **{})\n",
      "ma-user    27538  8.0  0.0 725696 380076 pts/0   SNl  15:45   0:07 /home/ma-user/anaconda3/envs/MindSpore/bin/python -c from multiprocessing.forkserver import main; main(219, 220, [], **{})\n",
      "ma-user    27566  8.0  0.0 725680 388112 pts/0   SNl  15:45   0:07 /home/ma-user/anaconda3/envs/MindSpore/bin/python -c from multiprocessing.forkserver import main; main(219, 220, [], **{})\n",
      "ma-user    28008  8.8  0.0 726364 383840 pts/0   SNl  15:45   0:07 /home/ma-user/anaconda3/envs/MindSpore/bin/python -c from multiprocessing.forkserver import main; main(219, 220, [], **{})\n",
      "ma-user    28009  8.6  0.0 726364 388148 pts/0   SNl  15:45   0:07 /home/ma-user/anaconda3/envs/MindSpore/bin/python -c from multiprocessing.forkserver import main; main(219, 220, [], **{})\n",
      "ma-user    28010  8.7  0.0 726380 380388 pts/0   SNl  15:45   0:07 /home/ma-user/anaconda3/envs/MindSpore/bin/python -c from multiprocessing.forkserver import main; main(219, 220, [], **{})\n",
      "ma-user    28011  8.6  0.0 726380 383464 pts/0   SNl  15:45   0:07 /home/ma-user/anaconda3/envs/MindSpore/bin/python -c from multiprocessing.forkserver import main; main(219, 220, [], **{})\n",
      "ma-user    28012  8.7  0.0 726380 380428 pts/0   SNl  15:45   0:07 /home/ma-user/anaconda3/envs/MindSpore/bin/python -c from multiprocessing.forkserver import main; main(219, 220, [], **{})\n",
      "ma-user    28013  9.0  0.0 726380 387588 pts/0   SNl  15:45   0:07 /home/ma-user/anaconda3/envs/MindSpore/bin/python -c from multiprocessing.forkserver import main; main(219, 220, [], **{})\n",
      "ma-user    28014  8.8  0.0 726380 380624 pts/0   SNl  15:45   0:07 /home/ma-user/anaconda3/envs/MindSpore/bin/python -c from multiprocessing.forkserver import main; main(219, 220, [], **{})\n",
      "ma-user    28015  8.6  0.0 726380 387552 pts/0   SNl  15:45   0:07 /home/ma-user/anaconda3/envs/MindSpore/bin/python -c from multiprocessing.forkserver import main; main(219, 220, [], **{})\n",
      "ma-user    29776  0.0  0.0 214048  2404 pts/1    Ss+  15:46   0:00 /bin/bash -c ps aux | grep python\n",
      "ma-user    29779  0.0  0.0 213308   468 pts/1    S+   15:46   0:00 grep python\n"
     ]
    }
   ],
   "source": [
    "!ps aux | grep python"
   ]
  }
 ],
 "metadata": {
  "kernelspec": {
   "display_name": "MindSpore",
   "language": "python",
   "name": "mindspore"
  },
  "language_info": {
   "codemirror_mode": {
    "name": "ipython",
    "version": 3
   },
   "file_extension": ".py",
   "mimetype": "text/x-python",
   "name": "python",
   "nbconvert_exporter": "python",
   "pygments_lexer": "ipython3",
   "version": "3.9.10"
  },
  "toc-autonumbering": true,
  "toc-showmarkdowntxt": false,
  "toc-showtags": false
 },
 "nbformat": 4,
 "nbformat_minor": 5
}
