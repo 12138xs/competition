{
 "cells": [
  {
   "cell_type": "code",
   "execution_count": 1,
   "metadata": {},
   "outputs": [],
   "source": [
    "# 数据预处理\n",
    "\n",
    "import os\n",
    "import json\n",
    "\n",
    "def proc_data(input_file, output_file):\n",
    "    with open(input_file, 'r', encoding='utf-8') as f:\n",
    "        total_data = list(f.readlines())\n",
    "        w_str = ''\n",
    "        for d in total_data:\n",
    "            data = json.loads(d)\n",
    "            context = data['source'].replace('content://', '')\n",
    "            context = [word for word in context]\n",
    "            labels = ['O'] * len(context)\n",
    "            for annotation in data['annotation']:\n",
    "                b_index = annotation['property']['@modelarts:start_index']\n",
    "                e_index = annotation['property']['@modelarts:end_index']\n",
    "                labels[b_index] = 'B-' + annotation['name']\n",
    "                labels[b_index + 1:e_index + 1] = ['I-' + annotation['name']] * (e_index - b_index)\n",
    "            for i in range(len(context)):\n",
    "                w_str += context[i] + ' ' + labels[i] + '\\n'\n",
    "            w_str += '\\n'\n",
    "        file = open(output_file, 'w', encoding='utf-8')\n",
    "        file.write(w_str)\n",
    "\n",
    "\n",
    "proc_data('./Dataset/Training-1000/train_dataset_anno/annotation/V001/V001.manifest', 'train_data.txt')\n",
    "proc_data('./Dataset/Testing-1000/test_dataset_anno/annotation/V001/V001.manifest', 'test_data.txt')"
   ]
  },
  {
   "cell_type": "code",
   "execution_count": null,
   "metadata": {},
   "outputs": [],
   "source": [
    "import os\n",
    "import numpy as np\n",
    "import random\n",
    "import mindspore\n",
    "import mindspore.nn as nn\n",
    "import mindspore.dataset as ds\n",
    "from mindnlp.modules import CRF\n",
    "from tqdm import tqdm\n",
    "\n",
    "mindspore.set_context(device_target=\"Ascend\")"
   ]
  },
  {
   "cell_type": "code",
   "execution_count": 2,
   "metadata": {},
   "outputs": [],
   "source": [
    "def seed_everything(seed):\n",
    "    random.seed(seed)\n",
    "    os.environ[\"PYTHONHASHSEED\"] = str(seed)\n",
    "    np.random.seed(seed)\n",
    "    mindspore.set_seed(seed)\n",
    "    mindspore.dataset.config.set_seed(seed)\n",
    "\n",
    "# 读取文本，返回词典，索引表，句子，标签\n",
    "def read_data(path):\n",
    "    sentences = []\n",
    "    labels = []\n",
    "    with open(path, 'r', encoding='utf-8') as f:\n",
    "        sent = []\n",
    "        label = []\n",
    "        for line in f:\n",
    "            parts = line.split()\n",
    "            if len(parts) == 0:\n",
    "                if len(sent) != 0:\n",
    "                    sentences.append(sent)\n",
    "                    labels.append(label)\n",
    "                sent = []\n",
    "                label = []\n",
    "            else:\n",
    "                sent.append(parts[0])\n",
    "                label.append(parts[-1])\n",
    "                \n",
    "    return (sentences, labels)\n",
    "\n",
    "# 返回词典映射表、词数字典\n",
    "def get_dict(sentences):\n",
    "    max_number = 1\n",
    "    char_number_dict={}\n",
    "\n",
    "    id_indexs={}\n",
    "    id_indexs['paddding']=0\n",
    "    id_indexs['unknow']=1\n",
    "    \n",
    "    for sent in sentences:\n",
    "        for c in sent:\n",
    "            if c not in char_number_dict:\n",
    "                char_number_dict[c]=0\n",
    "            char_number_dict[c]+=1\n",
    "                \n",
    "    for c,n in char_number_dict.items():\n",
    "        if n>=max_number:\n",
    "            id_indexs[c]=len(id_indexs)\n",
    "            \n",
    "    return char_number_dict, id_indexs\n",
    "\n",
    "def get_entity(decode):\n",
    "    starting=False\n",
    "    p_ans=[]\n",
    "    for i,label in enumerate(decode):\n",
    "        if label > 0:\n",
    "            if label%2==1:\n",
    "                starting=True\n",
    "                p_ans.append(([i],labels_text_mp[label//2]))\n",
    "            elif starting:\n",
    "                p_ans[-1][0].append(i)\n",
    "        else:\n",
    "            starting=False\n",
    "    return p_ans\n",
    "\n",
    "# 处理数据 \n",
    "class Feature(object):\n",
    "    def __init__(self,sent, label):\n",
    "        self.or_text = sent  #文本原句\n",
    "        self.seq_length = len(sent) if len(sent) < Max_Len else Max_Len\n",
    "        self.labels = [LABEL_MAP[c] for c in label][:Max_Len] + [0]*(Max_Len - len(label)) # 标签\n",
    "        self.token_ids = self.tokenizer(sent)[:Max_Len]  + [0]*(Max_Len - len(sent)) #文本token\n",
    "        self.entity = get_entity(self.labels)\n",
    "        \n",
    "    def tokenizer(self, sent):\n",
    "        token_ids = []\n",
    "        for c in sent:\n",
    "            if c in id_indexs.keys():\n",
    "                token_ids.append(id_indexs[c])\n",
    "            else:\n",
    "                token_ids.append(id_indexs['unknow'])\n",
    "        return token_ids\n",
    "\n",
    "class GetDatasetGenerator:\n",
    "    def __init__(self, data):\n",
    "        self.features = [Feature(data[0][i], data[1][i]) for i in range(len(data[0]))]\n",
    "        \n",
    "    def __len__(self):\n",
    "        return len(self.features)\n",
    "    \n",
    "    def __getitem__(self, index):\n",
    "        feature = self.features[index]\n",
    "        token_ids = feature.token_ids\n",
    "        labels = feature.labels\n",
    "        \n",
    "        return (token_ids, feature.seq_length, labels)\n",
    "    \n",
    "def debug_dataset(dataset):\n",
    "    dataset = dataset.batch(batch_size=16)\n",
    "    for data in dataset.create_dict_iterator():\n",
    "        print(data[\"data\"].shape, data[\"label\"].shape)\n",
    "        break\n",
    "        \n",
    "def get_metric(P_ans, valid):\n",
    "    predict_score = 0 # 预测正确个数\n",
    "    predict_number = 0 # 预测结果个数\n",
    "    totol_number = 0 # 标签个数\n",
    "    for i in range(len(P_ans)):\n",
    "        predict_number += len(P_ans[i])\n",
    "        totol_number += len(valid.features[i].entity)\n",
    "        pred_true = [x for x in valid.features[i].entity if x in P_ans[i]]\n",
    "        predict_score += len(pred_true)\n",
    "    P = predict_score/predict_number if predict_number>0 else 0.\n",
    "    R = predict_score/totol_number if totol_number>0 else 0.\n",
    "    f1=(2*P*R)/(P+R) if (P+R)>0 else 0.\n",
    "    print(f'f1 = {f1}， P(准确率) = {P}, R(召回率) = {R}')"
   ]
  },
  {
   "cell_type": "code",
   "execution_count": 3,
   "metadata": {},
   "outputs": [],
   "source": [
    "class LSTM_CRF(nn.Cell):\n",
    "    def __init__(self,embedding_num,embedding_dim,num_labels):\n",
    "        super().__init__()\n",
    "        self.num_labels = num_labels\n",
    "        self.embedding_num = embedding_num\n",
    "        self.embedding_dim = embedding_dim\n",
    "        self.model_name = 'LSTM_CRF'\n",
    "        self.em = nn.Embedding(vocab_size=self.embedding_num,embedding_size=self.embedding_dim, padding_idx=0)\n",
    "        self.bilstm = nn.LSTM(embedding_dim, embedding_dim//2, batch_first=True, bidirectional=True)\n",
    "        self.crf_hidden_fc = nn.Dense(embedding_dim, self.num_labels)\n",
    "        self.crf = CRF(self.num_labels, batch_first=True, reduction='mean')\n",
    "\n",
    "    def construct(self, ids, seq_length=None, labels=None):\n",
    "        seq=self.em(ids)\n",
    "        lstm_feat, _ = self.bilstm(seq)\n",
    "        emissions = self.crf_hidden_fc(lstm_feat)\n",
    "        loss_crf = self.crf(emissions, tags=labels, seq_length=seq_length)\n",
    "        return loss_crf"
   ]
  },
  {
   "cell_type": "code",
   "execution_count": 4,
   "metadata": {},
   "outputs": [],
   "source": [
    "seed = 42\n",
    "seed_everything(seed)\n",
    "Max_Len = 113\n",
    "\n",
    "# 人物PER， 地点LOC，机构ORG，混杂类型MISC（miscellaneous），日期DATE\n",
    "Entity = ['PER', 'LOC', 'ORG', 'MISC', 'DATE']\n",
    "labels_text_mp={k:v for k,v in enumerate(Entity)}\n",
    "LABEL_MAP = {'O': 0}\n",
    "for i, e in enumerate(Entity):\n",
    "    LABEL_MAP[f'B-{e}'] = 2 * (i+1) - 1\n",
    "    LABEL_MAP[f'I-{e}'] = 2 * (i+1)"
   ]
  },
  {
   "cell_type": "code",
   "execution_count": 5,
   "metadata": {},
   "outputs": [],
   "source": [
    "train = read_data('Dataset/train_data.txt')\n",
    "test = read_data('Dataset/test_data.txt')\n",
    "# dev = read_data('Dataset/valid.txt')\n",
    "char_number_dict, id_indexs = get_dict(train[0])"
   ]
  },
  {
   "cell_type": "code",
   "execution_count": 6,
   "metadata": {},
   "outputs": [],
   "source": [
    "Epoch = 20\n",
    "batch_size = 16\n",
    "dataset_generator = GetDatasetGenerator(train)\n",
    "dataset = ds.GeneratorDataset(dataset_generator, [\"data\", \"length\", \"label\"], shuffle=False)\n",
    "dataset_train = dataset.batch(batch_size=batch_size)"
   ]
  },
  {
   "cell_type": "code",
   "execution_count": 7,
   "metadata": {},
   "outputs": [],
   "source": [
    "model = LSTM_CRF(embedding_num=len(id_indexs), embedding_dim=256, num_labels=len(Entity)*2+1)\n",
    "optimizer = nn.Adam(model.trainable_params(), learning_rate=0.001)\n",
    "grad_fn = mindspore.ops.value_and_grad(model, None, optimizer.parameters)"
   ]
  },
  {
   "cell_type": "code",
   "execution_count": 8,
   "metadata": {},
   "outputs": [
    {
     "name": "stdout",
     "output_type": "stream",
     "text": [
      "cfg.ckpt_file:  ./ckpt/ckpt_20230625/yolov3_20_63.ckpt\n",
      "Model load over!\n"
     ]
    }
   ],
   "source": [
    "# from mindspore import load_checkpoint, load_param_into_net\n",
    "\n",
    "# ckpt_file = './ckpt/ckpt_20230625/yolov3_20_63.ckpt'\n",
    "# print('cfg.ckpt_file: ', ckpt_file)\n",
    "# parameter_dict = load_checkpoint(ckpt_file)\n",
    "\n",
    "# load_param_into_net(model, parameter_dict)\n",
    "# print('Model load over!')\n"
   ]
  },
  {
   "cell_type": "code",
   "execution_count": 9,
   "metadata": {
    "tags": []
   },
   "outputs": [],
   "source": [
    "from mindspore import ms_function\n",
    "\n",
    "@ms_function\n",
    "def train_step(token_ids, seq_length, labels):\n",
    "    loss, grads = grad_fn(token_ids, seq_length, labels)\n",
    "    optimizer(grads)\n",
    "    return loss"
   ]
  },
  {
   "cell_type": "code",
   "execution_count": 10,
   "metadata": {},
   "outputs": [
    {
     "name": "stdout",
     "output_type": "stream",
     "text": [
      "steps: 63\n",
      "save_ckpt_dir: ./ckpt/ckpt_20230625_1/\n"
     ]
    },
    {
     "name": "stderr",
     "output_type": "stream",
     "text": [
      "  0%|          | 0/63 [00:00<?, ?it/s][WARNING] ME(4215:281473278712384,MainProcess):2023-06-25-13:53:00.278.821 [mindspore/ops/primitive.py:713] The \"_check_is_tensor\" is a constexpr function. The input arguments must be all constant value.\n",
      " 98%|█████████▊| 62/63 [04:34<00:01,  1.37s/it, loss=1.46]  [WARNING] ME(4215:281473278712384,MainProcess):2023-06-25-13:57:24.425.661 [mindspore/ops/primitive.py:713] The \"_check_is_tensor\" is a constexpr function. The input arguments must be all constant value.\n",
      "100%|██████████| 63/63 [07:30<00:00,  7.15s/it, loss=1.45]\n",
      "100%|██████████| 63/63 [01:24<00:00,  1.35s/it, loss=1.31]\n",
      "100%|██████████| 63/63 [01:19<00:00,  1.27s/it, loss=1.23]\n",
      "100%|██████████| 63/63 [01:24<00:00,  1.35s/it, loss=1.18]\n",
      "100%|██████████| 63/63 [01:27<00:00,  1.39s/it, loss=1.13]\n",
      "100%|██████████| 63/63 [01:21<00:00,  1.29s/it, loss=1.09]\n",
      "100%|██████████| 63/63 [01:23<00:00,  1.33s/it, loss=1.04]\n",
      "100%|██████████| 63/63 [01:18<00:00,  1.25s/it, loss=0.994]\n",
      "100%|██████████| 63/63 [01:21<00:00,  1.30s/it, loss=0.946]\n",
      "100%|██████████| 63/63 [01:11<00:00,  1.13s/it, loss=0.91] \n",
      "100%|██████████| 63/63 [01:19<00:00,  1.26s/it, loss=0.874]\n",
      "100%|██████████| 63/63 [01:22<00:00,  1.32s/it, loss=0.837]\n",
      "100%|██████████| 63/63 [01:26<00:00,  1.38s/it, loss=0.803]\n",
      "100%|██████████| 63/63 [01:22<00:00,  1.31s/it, loss=0.772]\n",
      "100%|██████████| 63/63 [01:24<00:00,  1.34s/it, loss=0.744]\n",
      "100%|██████████| 63/63 [01:26<00:00,  1.37s/it, loss=0.717]\n",
      "100%|██████████| 63/63 [01:27<00:00,  1.38s/it, loss=0.697]\n",
      "100%|██████████| 63/63 [01:26<00:00,  1.37s/it, loss=0.676]\n",
      "100%|██████████| 63/63 [01:27<00:00,  1.39s/it, loss=0.653]\n",
      "100%|██████████| 63/63 [01:30<00:00,  1.44s/it, loss=0.632]\n"
     ]
    }
   ],
   "source": [
    "# 训练\n",
    "from mindspore import context\n",
    "\n",
    "size = dataset_train.get_dataset_size()\n",
    "steps = size\n",
    "print('steps:', steps)\n",
    "save_ckpt_dir = './ckpt/ckpt_20230625_1/'\n",
    "\n",
    "print('save_ckpt_dir:', save_ckpt_dir)\n",
    "\n",
    "tloss = []\n",
    "for epoch in range(Epoch):\n",
    "    model.set_train()\n",
    "    with tqdm(total=steps) as t:\n",
    "        for batch, (token_ids, seq_length, labels) in enumerate(dataset_train.create_tuple_iterator()):\n",
    "            loss = train_step(token_ids, seq_length, labels)\n",
    "            tloss.append(loss.asnumpy())\n",
    "            t.set_postfix(loss=np.array(tloss).mean())\n",
    "            t.update(1)\n",
    "    if epoch > 5:\n",
    "        if (epoch + 1) % 1 == 0:\n",
    "            os.makedirs(save_ckpt_dir, exist_ok=True)\n",
    "            # ms.save_checkpoint(network, f\"./deeplabv3_{epoch + 1}_{iters_per_epoch}.ckpt\")\n",
    "            # ms.save_checkpoint(net_yolo, os.path.join(save_ckpt_dir, f\"./yolov3_{epoch + 1}_{step_size}.ckpt\"))\n",
    "            mindspore.save_checkpoint(model,os.path.join(save_ckpt_dir, f\"./lstm_crf_{epoch + 1}_{steps}.ckpt\"))"
   ]
  },
  {
   "cell_type": "code",
   "execution_count": 12,
   "metadata": {},
   "outputs": [
    {
     "name": "stderr",
     "output_type": "stream",
     "text": [
      "100%|██████████| 63/63 [01:41<00:00,  1.61s/it]"
     ]
    },
    {
     "name": "stdout",
     "output_type": "stream",
     "text": [
      "f1 = 0.9876183539694101， P(准确率) = 0.988818667963053, R(召回率) = 0.9864209505334627\n"
     ]
    },
    {
     "name": "stderr",
     "output_type": "stream",
     "text": [
      "\n"
     ]
    }
   ],
   "source": [
    "# 预测：train\n",
    "dataset_generator = GetDatasetGenerator(train)\n",
    "dataset = ds.GeneratorDataset(dataset_generator, [\"data\", \"length\", \"label\"], shuffle=False)\n",
    "dataset_train = dataset.batch(batch_size=batch_size)\n",
    "\n",
    "size = dataset_train.get_dataset_size()\n",
    "steps = size\n",
    "decodes=[]\n",
    "model.set_train(False)\n",
    "with tqdm(total=steps) as t:\n",
    "    for batch, (token_ids, seq_length, labels) in enumerate(dataset_train.create_tuple_iterator()):\n",
    "        score, history = model(token_ids, seq_length=seq_length)\n",
    "        best_tags = CRF.post_decode(score, history, seq_length)\n",
    "        decode = [[y.asnumpy().item() for y in x] for x in best_tags]\n",
    "        decodes.extend(list(decode))\n",
    "        t.update(1)\n",
    "        \n",
    "v_pred = [get_entity(x) for x in decodes]\n",
    "get_metric(v_pred, dataset_generator)"
   ]
  },
  {
   "cell_type": "code",
   "execution_count": 16,
   "metadata": {
    "tags": []
   },
   "outputs": [
    {
     "name": "stderr",
     "output_type": "stream",
     "text": [
      "100%|██████████| 63/63 [01:35<00:00,  1.51s/it]"
     ]
    },
    {
     "name": "stdout",
     "output_type": "stream",
     "text": [
      "f1 = 0.5103615186809862， P(准确率) = 0.47268142336789015, R(召回率) = 0.55456936226167\n"
     ]
    },
    {
     "name": "stderr",
     "output_type": "stream",
     "text": [
      "\n"
     ]
    }
   ],
   "source": [
    "# 预测：test\n",
    "test_dataset_generator = GetDatasetGenerator(test)\n",
    "dataset_test = ds.GeneratorDataset(test_dataset_generator, [\"data\", \"length\", \"label\"], shuffle=False)\n",
    "dataset_test = dataset_test.batch(batch_size=batch_size)\n",
    "\n",
    "size = dataset_test.get_dataset_size()\n",
    "steps = size\n",
    "decodes_pred=[]\n",
    "model.set_train(False)\n",
    "with tqdm(total=steps) as t:\n",
    "    for batch, (token_ids, seq_length, labels) in enumerate(dataset_test.create_tuple_iterator()):\n",
    "        score, history = model(token_ids, seq_length=seq_length)\n",
    "        best_tags = model.crf.post_decode(score, history, seq_length)\n",
    "        decode = [[y.asnumpy().item() for y in x] for x in best_tags]\n",
    "        decodes_pred.extend(list(decode))\n",
    "        t.update(1)\n",
    "        \n",
    "\n",
    "pred = [get_entity(x) for x in decodes_pred]\n",
    "get_metric(pred, test_dataset_generator)"
   ]
  }
 ],
 "metadata": {
  "kernelspec": {
   "display_name": "MindSpore",
   "language": "python",
   "name": "mindspore"
  },
  "language_info": {
   "codemirror_mode": {
    "name": "ipython",
    "version": 3
   },
   "file_extension": ".py",
   "mimetype": "text/x-python",
   "name": "python",
   "nbconvert_exporter": "python",
   "pygments_lexer": "ipython3",
   "version": "3.7.10"
  },
  "toc": {
   "base_numbering": 1,
   "nav_menu": {},
   "number_sections": true,
   "sideBar": true,
   "skip_h1_title": false,
   "title_cell": "Table of Contents",
   "title_sidebar": "Contents",
   "toc_cell": false,
   "toc_position": {},
   "toc_section_display": true,
   "toc_window_display": false
  },
  "vscode": {
   "interpreter": {
    "hash": "a62cb8bb4abcff3256df5ab1881dc7c3e7803473070698df3ff917df10adcce5"
   }
  }
 },
 "nbformat": 4,
 "nbformat_minor": 4
}
